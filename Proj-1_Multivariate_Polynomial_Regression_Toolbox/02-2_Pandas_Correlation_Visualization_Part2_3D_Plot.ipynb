{
 "cells": [
  {
   "cell_type": "markdown",
   "metadata": {},
   "source": [
    "<h1 align=\"Left\"> Pandas Dataframe x Regression Correlation </h1>\n",
    "\n",
    "<h2 align=\"left\"> Visualization of regression result: 3D Plot Scatter & Surface </h2>\n",
    "\n",
    "<img src = \"pic_data/Dextract.png\" width = \"500\" align=\"center\">\n",
    "\n",
    "<img src = \"pic_data/elephant_logo.jpg\" width = \"300\">"
   ]
  },
  {
   "cell_type": "markdown",
   "metadata": {},
   "source": [
    "    ข้อมูลเพิ่มเติม:\n",
    "    - pyplot: https://matplotlib.org/api/pyplot_api.html\n",
    "    - mplot3d: https://matplotlib.org/mpl_toolkits/mplot3d/tutorial.html"
   ]
  },
  {
   "cell_type": "code",
   "execution_count": null,
   "metadata": {},
   "outputs": [],
   "source": [
    "%matplotlib inline "
   ]
  },
  {
   "cell_type": "code",
   "execution_count": null,
   "metadata": {},
   "outputs": [],
   "source": [
    "# import visualization module\n",
    "import matplotlib.pyplot as plt\n",
    "\n",
    "import pandas as pd # pandas\n",
    "import numpy as np # numpy q5647w"
   ]
  },
  {
   "cell_type": "markdown",
   "metadata": {},
   "source": [
    "\n",
    "- Import toolkits ในการพล็อตกราฟ 2D และ 3D"
   ]
  },
  {
   "cell_type": "code",
   "execution_count": null,
   "metadata": {},
   "outputs": [],
   "source": [
    "# Additional module for 3D plotting\n",
    "from mpl_toolkits.mplot3d import Axes3D #3D plotting\n"
   ]
  },
  {
   "cell_type": "markdown",
   "metadata": {},
   "source": [
    "- Import ชุดข้อมูล"
   ]
  },
  {
   "cell_type": "code",
   "execution_count": null,
   "metadata": {},
   "outputs": [],
   "source": [
    "# load data\n",
    "df = pd.read_excel('input_test_data.xlsx') #import ข้อมูล\n",
    "df.head()"
   ]
  },
  {
   "cell_type": "markdown",
   "metadata": {},
   "source": [
    "- เก็บข้อมูลแต่ละคอลัมน์ในตัวแปร x1, x2, y"
   ]
  },
  {
   "cell_type": "code",
   "execution_count": null,
   "metadata": {},
   "outputs": [],
   "source": [
    "x1 = df.loc[:,'X1']\n",
    "x2 = df.loc[:,'X2']\n",
    "y = df.loc[:,'Y']"
   ]
  },
  {
   "cell_type": "markdown",
   "metadata": {
    "collapsed": true
   },
   "source": [
    "## Visualize in 3D\n",
    "\n",
    "### 1. Scatter plot\n",
    "\n",
    "* จะต้องทำการ set ในรูปแบบของ subplot\n",
    "* ทำตาม syntax ที่เตรียมไว้ให้ครับ\n",
    "\n",
    "Ref:\n",
    "\n",
    "https://matplotlib.org/2.1.1/gallery/mplot3d/scatter3d.html"
   ]
  },
  {
   "cell_type": "code",
   "execution_count": null,
   "metadata": {},
   "outputs": [],
   "source": [
    "# โครง ของ syntax plotting\n",
    "fig = plt.figure() # สร้าง figure ออกมา\n",
    "ax  = fig.add_subplot(111, projection='3d') #สร้าง subplot ขนาด 1x1 และเลือกตัวที่ 1, ในรูปแบบ 3D\n",
    "\n",
    "# ใส่ค่าลงไป\n",
    "ax.scatter(x1, x2, y) # plot, x1, x2, y\n",
    "plt.show() # show ค่า"
   ]
  },
  {
   "cell_type": "markdown",
   "metadata": {},
   "source": [
    "## 2. 3D Surface plot\n",
    "* ใน 3D plot ผลจากการทำ regression ที่ได้เป็นสมการจะไม่ใช่ line แต่จะเป็น surface\n",
    "* ใน 2D plot เราเตรียมค่า x จาก linear space แล้วค่อยคำนวณค่า y\n",
    "* ใน 3D plot เราต้องเตรียมทั้งค่า x1,x2 เพื่อ estimate ค่า y\n",
    "* เราต้องทำการ meshgrid หรือการสร้าง x1,x2 กำหนดขอบเขตใน 2 มิติ เพื่อให้ได้ค่า grid ใน 2 มิติเตรียมไว้"
   ]
  },
  {
   "cell_type": "markdown",
   "metadata": {},
   "source": [
    "### 2.1 Parameter Preparation before mesh grid in 1D"
   ]
  },
  {
   "cell_type": "markdown",
   "metadata": {},
   "source": [
    "#### x1"
   ]
  },
  {
   "cell_type": "code",
   "execution_count": null,
   "metadata": {},
   "outputs": [],
   "source": [
    "min(x1)"
   ]
  },
  {
   "cell_type": "code",
   "execution_count": null,
   "metadata": {},
   "outputs": [],
   "source": [
    "max(x1)"
   ]
  },
  {
   "cell_type": "code",
   "execution_count": null,
   "metadata": {},
   "outputs": [],
   "source": [
    "x1_lin = np.linspace(min(x1),max(x1),200) #สร้าง x-array 200 ค่า\n",
    "x1_lin"
   ]
  },
  {
   "cell_type": "markdown",
   "metadata": {},
   "source": [
    "#### x2"
   ]
  },
  {
   "cell_type": "code",
   "execution_count": null,
   "metadata": {},
   "outputs": [],
   "source": [
    "min(x2)"
   ]
  },
  {
   "cell_type": "code",
   "execution_count": null,
   "metadata": {},
   "outputs": [],
   "source": [
    "max(x2)"
   ]
  },
  {
   "cell_type": "code",
   "execution_count": null,
   "metadata": {},
   "outputs": [],
   "source": [
    "x2_lin = np.linspace(min(x2),max(x2),200) #สร้าง y-array 200 ค่า\n",
    "x2_lin"
   ]
  },
  {
   "cell_type": "markdown",
   "metadata": {},
   "source": [
    "### 2.2 Meshgrid from 1D to 2D space\n",
    "\n",
    "* Syntax: np.meshgrid(x1_lin, x2_lin)"
   ]
  },
  {
   "cell_type": "code",
   "execution_count": null,
   "metadata": {},
   "outputs": [],
   "source": [
    "x1_grid, x2_grid = np.meshgrid(x1_lin, x2_lin) #นำค่า x, y มาสร้างเป็นตารางของแต่ละ combination ของ x,y"
   ]
  },
  {
   "cell_type": "code",
   "execution_count": null,
   "metadata": {},
   "outputs": [],
   "source": [
    "x1_grid.shape"
   ]
  },
  {
   "cell_type": "code",
   "execution_count": null,
   "metadata": {},
   "outputs": [],
   "source": [
    "x1_grid"
   ]
  },
  {
   "cell_type": "code",
   "execution_count": null,
   "metadata": {},
   "outputs": [],
   "source": [
    "x2_grid.shape"
   ]
  },
  {
   "cell_type": "code",
   "execution_count": null,
   "metadata": {},
   "outputs": [],
   "source": [
    "x2_grid"
   ]
  },
  {
   "cell_type": "markdown",
   "metadata": {},
   "source": [
    "### 2.3 Calculate Y value from regression equation to mesh grid"
   ]
  },
  {
   "cell_type": "markdown",
   "metadata": {},
   "source": [
    "#### สร้างค่า y โดยการยืมค่าคงที่ที่ได้จาก regression ใน Part1\n",
    "\n",
    "y = (1*x1) + (1*x2) + (2*x1 ** 2) + (2 * x1 * x2) + (2 * x2 ** 2)    "
   ]
  },
  {
   "cell_type": "code",
   "execution_count": null,
   "metadata": {},
   "outputs": [],
   "source": [
    "# #Polynomial degree 1\n",
    "# y1 = -115*xg1 + 11500*xg2 +10000\n",
    "#Polynomial degree 2\n",
    "y_grid = 1*x1_grid +1*x2_grid + 2*x1_grid**2 + 2*x1_grid*x2_grid + 2*x2_grid**2 + 10\n",
    "y_grid"
   ]
  },
  {
   "cell_type": "code",
   "execution_count": null,
   "metadata": {},
   "outputs": [],
   "source": [
    "y_grid.shape"
   ]
  },
  {
   "cell_type": "markdown",
   "metadata": {},
   "source": [
    "### 2.4 Plot 3D surface"
   ]
  },
  {
   "cell_type": "code",
   "execution_count": null,
   "metadata": {},
   "outputs": [],
   "source": [
    "# 1 - Plot แบบ basic\n",
    "\n",
    "fig = plt.figure()\n",
    "ax = fig.add_subplot(111, projection='3d') #สร้าง subplot ในรูปแบบ 3D\n",
    "\n",
    "ax.plot_surface(x1_grid, x2_grid, y_grid) # plot_surface\n",
    "\n",
    "plt.show()"
   ]
  },
  {
   "cell_type": "code",
   "execution_count": null,
   "metadata": {},
   "outputs": [],
   "source": [
    "# 2. Plot แบบ เพิ่ม สีสันเข้าไป\n",
    "\n",
    "from matplotlib import cm #import color map\n",
    "\n",
    "\n",
    "fig = plt.figure()\n",
    "ax = fig.add_subplot(111, projection='3d') #สร้าง subplot ในรูปแบบ 3D\n",
    "\n",
    "ax.plot_surface(x1_grid, x2_grid, y_grid, cmap = cm.coolwarm, alpha = 0.7) #set color gradient to coolwarm and alpha transparency to 0.7 : \n",
    "plt.show()"
   ]
  },
  {
   "cell_type": "code",
   "execution_count": null,
   "metadata": {},
   "outputs": [],
   "source": [
    "# 3. เพิ่ม Decoration\n",
    "\n",
    "from matplotlib import cm #import color map\n",
    "\n",
    "\n",
    "fig = plt.figure()\n",
    "ax = fig.add_subplot(111, projection='3d') #สร้าง subplot ในรูปแบบ 3D\n",
    "\n",
    "ax.plot_surface(x1_grid, x2_grid, y_grid, cmap = cm.coolwarm, alpha = 0.7) #set color gradient to coolwarm and alpha transparency to 0.7 : \n",
    "\n",
    "# Decoration\n",
    "ax.set_xlabel(\"X1\")\n",
    "ax.set_ylabel(\"X2\")\n",
    "ax.set_zlabel(\"Y\")\n",
    "ax.set_title(\"Polynomial degree 2: 3D plot of x1, x2 and y\")\n",
    "\n",
    "plt.show()\n"
   ]
  },
  {
   "cell_type": "markdown",
   "metadata": {},
   "source": [
    "## 3. Plot Scatter + Surface in 3D"
   ]
  },
  {
   "cell_type": "code",
   "execution_count": null,
   "metadata": {},
   "outputs": [],
   "source": [
    "# Preparatin\n",
    "fig = plt.figure()\n",
    "ax = fig.add_subplot(111, projection='3d') #สร้าง subplot ในรูปแบบ 3D\n",
    "\n",
    "# 1. Scatter plot\n",
    "ax.scatter(x1, x2, y) #กำหนดขนาดจุดเท่ากับ 10\n",
    "\n",
    "# 2. Line plot\n",
    "ax.plot_surface(x1_grid, x2_grid, y_grid, cmap = cm.coolwarm, alpha = 0.7) #set color gradient to coolwarm and alpha transparency to 0.7\n",
    "\n",
    "# Decoration\n",
    "ax.set_xlabel(\"X1\")\n",
    "ax.set_ylabel(\"X2\")\n",
    "ax.set_zlabel(\"Y\")\n",
    "ax.set_title(\"Polynomial degree 2: 3D plot of x1, x2 and y\")\n",
    "\n",
    "\n",
    "plt.show()"
   ]
  },
  {
   "cell_type": "markdown",
   "metadata": {},
   "source": [
    "<b>Step 3: จัดเก็บเป็นรูปภาพ</b>"
   ]
  },
  {
   "cell_type": "code",
   "execution_count": null,
   "metadata": {},
   "outputs": [],
   "source": [
    "fig.savefig(\"3D_Scatter_Surface.png\", dpi=500) #บันทึก fig เป็น .png ความละเอียด 500 dpi (ไม่ใส่ก็ได้ แต่ใส่ dpi แล้วมันจะละเอียดขึ้น)"
   ]
  }
 ],
 "metadata": {
  "anaconda-cloud": {},
  "kernelspec": {
   "display_name": "Python 3",
   "language": "python",
   "name": "python3"
  },
  "language_info": {
   "codemirror_mode": {
    "name": "ipython",
    "version": 3
   },
   "file_extension": ".py",
   "mimetype": "text/x-python",
   "name": "python",
   "nbconvert_exporter": "python",
   "pygments_lexer": "ipython3",
   "version": "3.7.0"
  }
 },
 "nbformat": 4,
 "nbformat_minor": 1
}
