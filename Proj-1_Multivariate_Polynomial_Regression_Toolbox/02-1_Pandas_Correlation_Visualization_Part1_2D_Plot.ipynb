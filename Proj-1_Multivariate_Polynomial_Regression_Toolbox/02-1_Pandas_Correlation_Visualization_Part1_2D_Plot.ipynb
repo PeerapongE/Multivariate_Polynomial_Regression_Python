{
 "cells": [
  {
   "cell_type": "markdown",
   "metadata": {},
   "source": [
    "<h1 align=\"Left\"> Pandas Dataframe x Regression Correlation </h1>\n",
    "\n",
    "<h2 align=\"left\"> Visualization of regression result: 2D Plot Scatter & Line  </h2>\n",
    "\n",
    "<img src = \"pic_data/Dextract.png\" width = \"500\" align=\"center\">\n",
    "\n",
    "<img src = \"pic_data/elephant_logo.jpg\" width = \"300\">"
   ]
  },
  {
   "cell_type": "markdown",
   "metadata": {},
   "source": [
    "    ข้อมูลเพิ่มเติม:\n",
    "    - pyplot: https://matplotlib.org/api/pyplot_api.html\n",
    "    - mplot3d: https://matplotlib.org/mpl_toolkits/mplot3d/tutorial.html"
   ]
  },
  {
   "cell_type": "code",
   "execution_count": null,
   "metadata": {},
   "outputs": [],
   "source": [
    "%matplotlib inline "
   ]
  },
  {
   "cell_type": "code",
   "execution_count": null,
   "metadata": {},
   "outputs": [],
   "source": [
    "# import visualization module\n",
    "import matplotlib.pyplot as plt # เอาไว้ plot\n",
    "\n",
    "import pandas as pd # pandas --> เอาไว้ load ข้อมูล\n",
    "import numpy as np # numpy --> เอาไว้สร้าง linear space"
   ]
  },
  {
   "cell_type": "markdown",
   "metadata": {},
   "source": [
    "\n",
    "- Import toolkits ในการพล็อตกราฟ 2D และ 3D"
   ]
  },
  {
   "cell_type": "markdown",
   "metadata": {},
   "source": [
    "- Import ชุดข้อมูล"
   ]
  },
  {
   "cell_type": "code",
   "execution_count": null,
   "metadata": {},
   "outputs": [],
   "source": [
    "\n",
    "df = pd.read_excel('input_test_data.xlsx') #import ข้อมูล\n",
    "df.head()"
   ]
  },
  {
   "cell_type": "markdown",
   "metadata": {},
   "source": [
    "- เก็บข้อมูลแต่ละคอลัมน์ในตัวแปร x1, x2, y"
   ]
  },
  {
   "cell_type": "code",
   "execution_count": null,
   "metadata": {},
   "outputs": [],
   "source": [
    "x1 = df.loc[:,'X1']\n",
    "x2 = df.loc[:,'X2']\n",
    "y = df.loc[:,'Y']"
   ]
  },
  {
   "cell_type": "markdown",
   "metadata": {},
   "source": [
    "# Step 1: Visualize in 2D\n",
    "\n",
    "## 1 Scatter Plot\n",
    "\n",
    "เหมือนที่เคยทำใน workshop Matplotlib เลยครับ\n",
    "- Scatter plot"
   ]
  },
  {
   "cell_type": "code",
   "execution_count": null,
   "metadata": {},
   "outputs": [],
   "source": [
    "plt.scatter(x1,y)\n",
    "plt.show()"
   ]
  },
  {
   "cell_type": "markdown",
   "metadata": {},
   "source": [
    "## 2. Line Plot\n",
    "### 2.1 Line Plot preparation"
   ]
  },
  {
   "cell_type": "markdown",
   "metadata": {},
   "source": [
    "- Line plot: สร้างเส้นกราฟ 2มิติ ตามฟังก์ชันที่เราต้องการ <br>\n",
    "    สร้าง x-array"
   ]
  },
  {
   "cell_type": "code",
   "execution_count": null,
   "metadata": {},
   "outputs": [],
   "source": [
    "# ค่าต่ำสุดของ x1\n",
    "min(x1)"
   ]
  },
  {
   "cell_type": "code",
   "execution_count": null,
   "metadata": {},
   "outputs": [],
   "source": [
    "# ค่าสูงสุดของ x1\n",
    "max(x1)"
   ]
  },
  {
   "cell_type": "code",
   "execution_count": null,
   "metadata": {
    "scrolled": true
   },
   "outputs": [],
   "source": [
    " #สร้าง x-array จำนวน 200 ค่า โดยเริ่มตั้งแต่ค่าต่ำสุดจนถึงสูงสุดของชุดข้อมูล x1 โดยแต่ละค่ามีความห่างเท่าๆกัน\n",
    "x_lin = np.linspace(min(x1),max(x1),200)\n",
    "x_lin"
   ]
  },
  {
   "cell_type": "code",
   "execution_count": null,
   "metadata": {},
   "outputs": [],
   "source": [
    "# ทดสอบดูขนาดของ xg1 ได้ shape = 200\n",
    "x_lin.shape"
   ]
  },
  {
   "cell_type": "markdown",
   "metadata": {},
   "source": [
    "    สร้างค่า y ตามฟังก์ชันที่ต้องการ ยกตัวอย่างจากสมการที่ได้ใน Part1"
   ]
  },
  {
   "cell_type": "markdown",
   "metadata": {},
   "source": [
    "<img src = \"Pic_data/excel_linear_x1.png\" width = 500>"
   ]
  },
  {
   "cell_type": "code",
   "execution_count": null,
   "metadata": {},
   "outputs": [],
   "source": [
    "#Linear regression\n",
    "y_lin = 30.094*(x_lin) + 62.973\n",
    "y_lin"
   ]
  },
  {
   "cell_type": "code",
   "execution_count": null,
   "metadata": {},
   "outputs": [],
   "source": [
    "# ทดสอบดูขนาดของ y_lin ได้ shape = 200\n",
    "y_lin.shape"
   ]
  },
  {
   "cell_type": "markdown",
   "metadata": {},
   "source": [
    "### 2.2 Line Plot Plotting"
   ]
  },
  {
   "cell_type": "code",
   "execution_count": null,
   "metadata": {},
   "outputs": [],
   "source": [
    "plt.plot(x_lin,y_lin)\n",
    "plt.show()"
   ]
  },
  {
   "cell_type": "markdown",
   "metadata": {},
   "source": [
    "## 3. Mixed Plot\n",
    "### Mixed Plot: Scatter + Line Plot\n",
    "\n",
    "พล็อตกราฟเส้นตามฟังก์ชันที่เรากำหนดไว้"
   ]
  },
  {
   "cell_type": "code",
   "execution_count": null,
   "metadata": {},
   "outputs": [],
   "source": [
    "# plot1: scatter plot\n",
    "plt.scatter(x1,y)\n",
    "# plot2: line plot\n",
    "plt.plot(x_lin,y_lin, color=\"black\") #พล็อตกราฟเส้นสีดำตามฟังก์ชัน y ที่เรากำหนดไว้\n",
    "\n",
    "# Decoration\n",
    "plt.xlabel(\"x1\") #ใส่ x-label\n",
    "plt.ylabel(\"y\", rotation=0) #ใส่ rotation = 0 : y-labelโดยไม่ให้หมุนชื่อแกน\n",
    "plt.title(\"2D plot of y vs x1\") # ใส่ title\n",
    "\n",
    "plt.show()"
   ]
  },
  {
   "cell_type": "markdown",
   "metadata": {},
   "source": [
    "## ทีนี้เราก็ได้ 2D plot แล้ว ถ้าเปลี่ยน correlation ก็สร้าง line ใหม่ขึ้นมาตามสูตรใหม่"
   ]
  }
 ],
 "metadata": {
  "anaconda-cloud": {},
  "kernelspec": {
   "display_name": "Python 3",
   "language": "python",
   "name": "python3"
  },
  "language_info": {
   "codemirror_mode": {
    "name": "ipython",
    "version": 3
   },
   "file_extension": ".py",
   "mimetype": "text/x-python",
   "name": "python",
   "nbconvert_exporter": "python",
   "pygments_lexer": "ipython3",
   "version": "3.7.0"
  }
 },
 "nbformat": 4,
 "nbformat_minor": 1
}
