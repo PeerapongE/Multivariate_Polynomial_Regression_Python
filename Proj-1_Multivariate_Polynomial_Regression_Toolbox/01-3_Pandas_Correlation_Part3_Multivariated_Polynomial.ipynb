{
 "cells": [
  {
   "cell_type": "markdown",
   "metadata": {},
   "source": [
    "<h1 align=\"Left\"> Pandas Dataframe x Regression Correlation </h1>\n",
    "\n",
    "<h2 align=\"left\"> Polynomial & Multivariated Polynomial  </h2>\n",
    "\n",
    "<img src = \"pic_data/Dextract.png\" width = \"500\" align=\"center\">\n",
    "\n",
    "<img src = \"pic_data/elephant_logo.jpg\" width = \"300\">"
   ]
  },
  {
   "cell_type": "markdown",
   "metadata": {},
   "source": [
    "## 1. Import Library and Load input"
   ]
  },
  {
   "cell_type": "code",
   "execution_count": null,
   "metadata": {},
   "outputs": [],
   "source": [
    "from sklearn.linear_model import LinearRegression # Module ที่เอาไว้ใช้ทำ linear regression\n",
    "\n",
    "import pandas as pd\n",
    "\n",
    "import numpy as np # Use some mathematical equation for fitting\n",
    "\n",
    "from sklearn.preprocessing import PolynomialFeatures # ใช้ สร้าง polynomial"
   ]
  },
  {
   "cell_type": "markdown",
   "metadata": {},
   "source": [
    "* เตรียมข้อมูล อ่านเข้ามาจาก Excel\n",
    "* ลองเปิด Excel file ดู จะเห็นว่า Y ถูกสร้างจาก สมการ degree 2 จาก 2 ตัวแปร (multivariated polynomial equation)\n",
    "\n",
    "<img src = \"Pic_data/excel_data.png\" width = 300>"
   ]
  },
  {
   "cell_type": "code",
   "execution_count": null,
   "metadata": {},
   "outputs": [],
   "source": [
    "df = pd.read_excel('input_test_data.xlsx')\n",
    "df.head()"
   ]
  },
  {
   "cell_type": "code",
   "execution_count": null,
   "metadata": {},
   "outputs": [],
   "source": [
    "# แบ่ง dataframe เป็นตัวแปร X และ y\n",
    "# ในตัวอย่างนี้จะใช้แค่ X1 ในการสร้างสมการ\n",
    "X = df[[df.columns[1]]] #X input\n",
    "X.head()"
   ]
  },
  {
   "cell_type": "code",
   "execution_count": null,
   "metadata": {},
   "outputs": [],
   "source": [
    "y = df[df.columns[0]]\n",
    "y.head()"
   ]
  },
  {
   "cell_type": "markdown",
   "metadata": {},
   "source": [
    "## 1. Polynomial Fitting"
   ]
  },
  {
   "cell_type": "markdown",
   "metadata": {},
   "source": [
    "ลองมาสร้างสมการพหุนามกันต่อ\n",
    "- Linear fitting degree 2 (1 feature)  <br>\n",
    "ขั้นแรกคือการนำตัวแปรที่มีไปสร้างเป็นตัวแปรพหุนามตัวแปรใหม่ ตั้งชื่อว่า X_"
   ]
  },
  {
   "cell_type": "code",
   "execution_count": null,
   "metadata": {},
   "outputs": [],
   "source": [
    "nPoly = 2 #กำหนดให้เป็นสมการดีกรี 2\n",
    "# create polynomial feature\n",
    "\n",
    "poly = PolynomialFeatures(degree=nPoly, include_bias=None)\n",
    "# https://scikit-learn.org/stable/modules/generated/sklearn.preprocessing.PolynomialFeatures.html\n",
    "\n",
    "# transform features to polynomial terms\n",
    "X_ = poly.fit_transform(X) \n",
    "\n",
    "# จะบอกว่าแต่ละ term ยกกำลังเท่าไหร่ของแต่ละ parameters\n",
    "#print(\"Polynomial degree: \"+str(nPoly))\n",
    "print(\"Degree for each feature:\\n\" + str(poly.powers_))"
   ]
  },
  {
   "cell_type": "code",
   "execution_count": null,
   "metadata": {},
   "outputs": [],
   "source": [
    "# จะบอกว่าแต่ละ term ยกกำลังเท่าไหร่ของแต่ละ parameters\n",
    "#print(\"Polynomial degree: \"+str(nPoly))\n",
    "\n",
    "poly.powers_"
   ]
  },
  {
   "cell_type": "code",
   "execution_count": null,
   "metadata": {},
   "outputs": [],
   "source": [
    "X[:5]"
   ]
  },
  {
   "cell_type": "code",
   "execution_count": null,
   "metadata": {},
   "outputs": [],
   "source": [
    "X_[:5]"
   ]
  },
  {
   "cell_type": "markdown",
   "metadata": {},
   "source": [
    "นั่นคือจะได้มา 3 พจน์ได้แก่ x, x^2 และ x^3 <br>\n",
    "หลังจากนั้น ลองสร้างสมการเส้นตรงจากตัวแปรใหม่ (x, x^2, x^3)"
   ]
  },
  {
   "cell_type": "code",
   "execution_count": null,
   "metadata": {},
   "outputs": [],
   "source": [
    "# Linear fitting: y = ax^3 + bx^2 + cx + d\n",
    "lg = LinearRegression()\n",
    "lg.fit(X_, y)"
   ]
  },
  {
   "cell_type": "code",
   "execution_count": null,
   "metadata": {},
   "outputs": [],
   "source": [
    "a = lg.intercept_\n",
    "a"
   ]
  },
  {
   "cell_type": "code",
   "execution_count": null,
   "metadata": {},
   "outputs": [],
   "source": [
    "b = lg.coef_\n",
    "b"
   ]
  },
  {
   "cell_type": "code",
   "execution_count": null,
   "metadata": {},
   "outputs": [],
   "source": [
    "r2 = lg.score(X_, y)\n",
    "r2"
   ]
  },
  {
   "cell_type": "markdown",
   "metadata": {},
   "source": [
    "### Exercise perform polynomial regression degree 3 on the same dataset\n",
    "#### Hint\n",
    "* Do the same as the degree 2, just copy and paste"
   ]
  },
  {
   "cell_type": "code",
   "execution_count": null,
   "metadata": {},
   "outputs": [],
   "source": []
  },
  {
   "cell_type": "code",
   "execution_count": null,
   "metadata": {},
   "outputs": [],
   "source": []
  },
  {
   "cell_type": "code",
   "execution_count": null,
   "metadata": {},
   "outputs": [],
   "source": []
  },
  {
   "cell_type": "code",
   "execution_count": null,
   "metadata": {},
   "outputs": [],
   "source": []
  },
  {
   "cell_type": "code",
   "execution_count": null,
   "metadata": {},
   "outputs": [],
   "source": []
  },
  {
   "cell_type": "code",
   "execution_count": null,
   "metadata": {},
   "outputs": [],
   "source": []
  },
  {
   "cell_type": "code",
   "execution_count": null,
   "metadata": {},
   "outputs": [],
   "source": []
  },
  {
   "cell_type": "code",
   "execution_count": null,
   "metadata": {},
   "outputs": [],
   "source": []
  },
  {
   "cell_type": "code",
   "execution_count": null,
   "metadata": {},
   "outputs": [],
   "source": []
  },
  {
   "cell_type": "markdown",
   "metadata": {},
   "source": [
    "### Solution"
   ]
  },
  {
   "cell_type": "code",
   "execution_count": null,
   "metadata": {},
   "outputs": [],
   "source": [
    "nPoly = 3 #กำหนดให้เป็นสมการดีกรี 3\n",
    "# create polynomial feature\n",
    "\n",
    "poly = PolynomialFeatures(degree=nPoly, include_bias=None)\n",
    "# https://scikit-learn.org/stable/modules/generated/sklearn.preprocessing.PolynomialFeatures.html\n",
    "\n",
    "# transform features to polynomial terms\n",
    "X_ = poly.fit_transform(X) \n"
   ]
  },
  {
   "cell_type": "code",
   "execution_count": null,
   "metadata": {},
   "outputs": [],
   "source": [
    "lg = LinearRegression()\n",
    "lg.fit(X_, y)"
   ]
  },
  {
   "cell_type": "code",
   "execution_count": null,
   "metadata": {},
   "outputs": [],
   "source": [
    "a = lg.intercept_\n",
    "a"
   ]
  },
  {
   "cell_type": "code",
   "execution_count": null,
   "metadata": {},
   "outputs": [],
   "source": [
    "b = lg.coef_\n",
    "b"
   ]
  },
  {
   "cell_type": "code",
   "execution_count": null,
   "metadata": {},
   "outputs": [],
   "source": [
    "r2 = lg.score(X_, y)\n",
    "r2"
   ]
  },
  {
   "cell_type": "markdown",
   "metadata": {},
   "source": [
    "### display result"
   ]
  },
  {
   "cell_type": "code",
   "execution_count": null,
   "metadata": {},
   "outputs": [],
   "source": [
    "# from decimal import Decimal\n",
    "# แสดงผลค่า decimal โดยละเอียดมากขึ้น\n",
    "# https://docs.python.org/3/library/decimal.html\n",
    "\n",
    "# Function: Generate polynomial equation\n",
    "def Poly_equation(feature, coef, intercept, power):\n",
    "    '''\n",
    "    Return fitted polynomial equation as a string\n",
    "    \n",
    "    feature: list of feature in dataset\n",
    "    power: degree of each feature in each term (can get from poly.powers_)\n",
    "    '''\n",
    "    poly_string = \"\"\n",
    "    \n",
    "    for i in range(len(coef)): # create polynomial term\n",
    "        \n",
    "        #Coefficients\n",
    "        if i == 0:\n",
    "            term_string = \"y = %.3E\" % coef[i]\n",
    "        elif coef[i] >= 0: # add + sign in front of coef\n",
    "            term_string = \"+%.3E\" % coef[i]\n",
    "        else:\n",
    "            term_string = \"%.3E\" % coef[i]\n",
    "        \n",
    "        #Powers\n",
    "        feature_order = 0\n",
    "        for power_iter in power[i]: # power for each feature\n",
    "            if power_iter == 1 : #degree of that feature = 1\n",
    "                term_string += '*' + str(feature[feature_order])\n",
    "            elif power_iter > 1 : #degree of that feature > 1\n",
    "                term_string += '*' + str(feature[feature_order]) + '^' + str(power_iter)\n",
    "            feature_order += 1\n",
    "        poly_string += term_string\n",
    "    \n",
    "    #Add intercept\n",
    "    if intercept >= 0:\n",
    "        poly_string += \"+\"\n",
    "    poly_string += \"%.3E\" % intercept\n",
    "    \n",
    "    return poly_string"
   ]
  },
  {
   "cell_type": "code",
   "execution_count": null,
   "metadata": {},
   "outputs": [],
   "source": [
    "# print สมการและค่า R-square\n",
    "print(\"Equation: \" + Poly_equation('X1', lg.coef_, lg.intercept_, poly.powers_))\n",
    "print(\"R-Square = \"+ str(np.round(lg.score(X_,y),4))+\"\\n\")"
   ]
  },
  {
   "cell_type": "markdown",
   "metadata": {},
   "source": [
    "## 2. Multivariated Polynomial Fitting"
   ]
  },
  {
   "cell_type": "markdown",
   "metadata": {},
   "source": [
    "<b> Linear fitting degree 3 (2 features) </b> <br>\n",
    "วิธีทำไม่ต่างจากการสร้างสมการ 1 ตัวแปรมากนัก"
   ]
  },
  {
   "cell_type": "code",
   "execution_count": null,
   "metadata": {},
   "outputs": [],
   "source": [
    "# ในตัวอย่างนี้จะใช้ X1 และ X2\n",
    "XX = df.drop(df.columns[[0]], axis=1)\n",
    "XX.head()"
   ]
  },
  {
   "cell_type": "code",
   "execution_count": null,
   "metadata": {},
   "outputs": [],
   "source": [
    "nPoly = 2\n",
    "# create polynomial feature\n",
    "poly = PolynomialFeatures(degree=nPoly, include_bias=None)\n",
    "# transform features to polynomial terms\n",
    "XX_ = poly.fit_transform(XX)\n",
    "\n",
    "# อันนี้จะบอกว่า แต่ละ term คืออะไรบ้าง [1 0] คือกำลัง poly term ของ X1 และ X2 \n",
    "# ในกรณีนี้จะมี 5 term ของ X1, X2\n",
    "print(\"Polynomial degree: \"+str(nPoly))\n",
    "print(\"Degree for each feature(X1,X2):\\n\" + str(poly.powers_))"
   ]
  },
  {
   "cell_type": "code",
   "execution_count": null,
   "metadata": {},
   "outputs": [],
   "source": [
    "XX_[:5]"
   ]
  },
  {
   "cell_type": "markdown",
   "metadata": {},
   "source": [
    "นั่นคือจะได้มา 5 พจน์ได้แก่\n",
    "* x1\n",
    "* x2\n",
    "* x1^2\n",
    "* x1*x2\n",
    "* x2^2\n",
    "\n",
    "หลังจากนั้น ลองสร้างสมการเส้นตรงจากตัวแปรใหม่"
   ]
  },
  {
   "cell_type": "code",
   "execution_count": null,
   "metadata": {},
   "outputs": [],
   "source": [
    "# จะได้ 5 feature ออกมา คือ x1, x2, x1^2, x1*x2, x2^2\n",
    "XX_.shape"
   ]
  },
  {
   "cell_type": "code",
   "execution_count": null,
   "metadata": {
    "scrolled": true
   },
   "outputs": [],
   "source": [
    "# Linear fitting\n",
    "lg = LinearRegression()\n",
    "lg.fit(XX_, y)\n"
   ]
  },
  {
   "cell_type": "code",
   "execution_count": null,
   "metadata": {},
   "outputs": [],
   "source": [
    "a = lg.intercept_\n",
    "a"
   ]
  },
  {
   "cell_type": "code",
   "execution_count": null,
   "metadata": {},
   "outputs": [],
   "source": [
    "b = lg.coef_\n",
    "b"
   ]
  },
  {
   "cell_type": "code",
   "execution_count": null,
   "metadata": {},
   "outputs": [],
   "source": [
    "r2 = lg.score(XX_, y)\n",
    "r2"
   ]
  },
  {
   "cell_type": "markdown",
   "metadata": {},
   "source": [
    "### Display result"
   ]
  },
  {
   "cell_type": "code",
   "execution_count": null,
   "metadata": {},
   "outputs": [],
   "source": [
    "# print สมการและค่า R-square\n",
    "print(\"Equation: \" + Poly_equation(['X1','X2'], lg.coef_, lg.intercept_, poly.powers_))\n",
    "print(\"\\nR-Square = \"+ str(np.round(lg.score(XX_,y),3))+\"\\n\")"
   ]
  }
 ],
 "metadata": {
  "anaconda-cloud": {},
  "kernelspec": {
   "display_name": "Python 3",
   "language": "python",
   "name": "python3"
  },
  "language_info": {
   "codemirror_mode": {
    "name": "ipython",
    "version": 3
   },
   "file_extension": ".py",
   "mimetype": "text/x-python",
   "name": "python",
   "nbconvert_exporter": "python",
   "pygments_lexer": "ipython3",
   "version": "3.7.0"
  }
 },
 "nbformat": 4,
 "nbformat_minor": 2
}
