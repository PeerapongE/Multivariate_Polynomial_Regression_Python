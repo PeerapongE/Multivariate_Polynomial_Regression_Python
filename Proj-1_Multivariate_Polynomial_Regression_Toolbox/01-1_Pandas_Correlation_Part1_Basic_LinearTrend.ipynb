{
 "cells": [
  {
   "cell_type": "markdown",
   "metadata": {},
   "source": [
    "<h1 align=\"Left\"> Pandas Dataframe x Regression Correlation </h1>\n",
    "\n",
    "<h2 align=\"left\"> Basic Correlation with Linear Trend  </h2>\n",
    "\n",
    "<img src = \"pic_data/Dextract.png\" width = \"500\" align=\"center\">\n",
    "\n",
    "<img src = \"pic_data/elephant_logo.jpg\" width = \"300\">"
   ]
  },
  {
   "cell_type": "markdown",
   "metadata": {},
   "source": [
    "## 1. Import Library and Load input"
   ]
  },
  {
   "cell_type": "code",
   "execution_count": null,
   "metadata": {},
   "outputs": [],
   "source": [
    "from sklearn.linear_model import LinearRegression # Module ที่เอาไว้ใช้ทำ linear regression\n",
    "\n",
    "import pandas as pd"
   ]
  },
  {
   "cell_type": "markdown",
   "metadata": {},
   "source": [
    "* เตรียมข้อมูล อ่านเข้ามาจาก Excel\n",
    "* ลองเปิด Excel file ดู จะเห็นว่า Y ถูกสร้างจาก สมการ degree 2 จาก 2 ตัวแปร (multivariated polynomial equation)\n",
    "\n",
    "<img src = \"Pic_data/excel_data.png\" width = 300>"
   ]
  },
  {
   "cell_type": "code",
   "execution_count": null,
   "metadata": {},
   "outputs": [],
   "source": [
    "df = pd.read_excel('input_test_data.xlsx')\n",
    "df.head()"
   ]
  },
  {
   "cell_type": "code",
   "execution_count": null,
   "metadata": {},
   "outputs": [],
   "source": [
    "# แบ่ง dataframe เป็นตัวแปร X และ y\n",
    "# ในตัวอย่างนี้จะใช้แค่ X1 ในการสร้างสมการ\n",
    "X = df[[df.columns[1]]] #X input\n",
    "X.head()"
   ]
  },
  {
   "cell_type": "code",
   "execution_count": null,
   "metadata": {},
   "outputs": [],
   "source": [
    "y = df[df.columns[0]]\n",
    "y.head()"
   ]
  },
  {
   "cell_type": "markdown",
   "metadata": {},
   "source": [
    "## 2. Create Linear Trend with 1 unknown"
   ]
  },
  {
   "cell_type": "markdown",
   "metadata": {},
   "source": [
    "<img src = \"Pic_data/excel_linear_x1.png\" width = 500>"
   ]
  },
  {
   "cell_type": "markdown",
   "metadata": {},
   "source": [
    "เริ่มจากสมการเส้นตรงธรรมดากันก่อน\n",
    "- Linear fitting degree 1 (1 feature)"
   ]
  },
  {
   "cell_type": "code",
   "execution_count": null,
   "metadata": {},
   "outputs": [],
   "source": [
    "# Linear fitting: y = ax + b\n",
    "# สูตร function มีแค่ cell นี้ สั้นมาก\n",
    "\n",
    "lg = LinearRegression()\n",
    "lg.fit(X, y)\n"
   ]
  },
  {
   "cell_type": "code",
   "execution_count": null,
   "metadata": {},
   "outputs": [],
   "source": [
    "# Interception (c)  from equation: (y = mx + c)\n",
    "b = lg.intercept_\n",
    "b"
   ]
  },
  {
   "cell_type": "code",
   "execution_count": null,
   "metadata": {},
   "outputs": [],
   "source": [
    "# Slope (m) from equation: (y = mx + c)\n",
    "a = lg.coef_\n",
    "a"
   ]
  },
  {
   "cell_type": "code",
   "execution_count": null,
   "metadata": {},
   "outputs": [],
   "source": [
    "# lg score (R-square)\n",
    "r2 = lg.score(X,y)\n",
    "r2"
   ]
  },
  {
   "cell_type": "markdown",
   "metadata": {},
   "source": [
    "## 3.1 Display Result"
   ]
  },
  {
   "cell_type": "code",
   "execution_count": null,
   "metadata": {},
   "outputs": [],
   "source": [
    "# Print แบบ float\n",
    "print('Equation: %.2fx + %.2f' % (a,b))"
   ]
  },
  {
   "cell_type": "code",
   "execution_count": null,
   "metadata": {},
   "outputs": [],
   "source": [
    "# Print แบบ scientific number\n",
    "print('Equation: %.3Ex + %.3E' % (a,b))"
   ]
  },
  {
   "cell_type": "code",
   "execution_count": null,
   "metadata": {},
   "outputs": [],
   "source": [
    "# แสดงค่า R2 \n",
    "print('R-Squared = %.3f' % (r2))"
   ]
  },
  {
   "cell_type": "markdown",
   "metadata": {},
   "source": [
    "## Exercise\n",
    "\n",
    "* Perform Find Linear Trend from variable X2 VS Y\n",
    "* Hint: Repeat the same process except X = df[[df.columns[2]]] to set X to X2 in Excel file\n",
    "\n",
    "<img src = \"Pic_data/excel_linear_x2.png\" width = 500>"
   ]
  },
  {
   "cell_type": "code",
   "execution_count": null,
   "metadata": {},
   "outputs": [],
   "source": []
  },
  {
   "cell_type": "code",
   "execution_count": null,
   "metadata": {},
   "outputs": [],
   "source": []
  },
  {
   "cell_type": "code",
   "execution_count": null,
   "metadata": {},
   "outputs": [],
   "source": []
  },
  {
   "cell_type": "code",
   "execution_count": null,
   "metadata": {},
   "outputs": [],
   "source": []
  },
  {
   "cell_type": "code",
   "execution_count": null,
   "metadata": {},
   "outputs": [],
   "source": []
  },
  {
   "cell_type": "markdown",
   "metadata": {},
   "source": [
    "## Solution"
   ]
  },
  {
   "cell_type": "code",
   "execution_count": null,
   "metadata": {},
   "outputs": [],
   "source": [
    "X2 = df[[df.columns[2]]] #X input\n",
    "X2.head()"
   ]
  },
  {
   "cell_type": "code",
   "execution_count": null,
   "metadata": {},
   "outputs": [],
   "source": [
    "y = df[df.columns[0]]\n",
    "y.head()"
   ]
  },
  {
   "cell_type": "code",
   "execution_count": null,
   "metadata": {},
   "outputs": [],
   "source": [
    "lg = LinearRegression()\n",
    "lg.fit(X2, y)"
   ]
  },
  {
   "cell_type": "code",
   "execution_count": null,
   "metadata": {},
   "outputs": [],
   "source": [
    "# Linear fitting: y = ax + b\n",
    "b = lg.intercept_\n",
    "b"
   ]
  },
  {
   "cell_type": "code",
   "execution_count": null,
   "metadata": {},
   "outputs": [],
   "source": [
    "# Linear fitting: y = ax + b\n",
    "a = lg.coef_\n",
    "a"
   ]
  },
  {
   "cell_type": "code",
   "execution_count": null,
   "metadata": {},
   "outputs": [],
   "source": [
    "# lg score (R-square)\n",
    "r2 = lg.score(X2,y)\n",
    "r2"
   ]
  },
  {
   "cell_type": "code",
   "execution_count": null,
   "metadata": {},
   "outputs": [],
   "source": [
    "# Print แบบ float\n",
    "print('Equation: %.2fx + %.2f' % (a,b))"
   ]
  },
  {
   "cell_type": "code",
   "execution_count": null,
   "metadata": {},
   "outputs": [],
   "source": [
    "# แสดงค่า R2 \n",
    "print('R-Squared = %.3f' % (r2))"
   ]
  },
  {
   "cell_type": "markdown",
   "metadata": {},
   "source": [
    "## Extra\n",
    "## 3.2 Display Result (With Function)\n",
    "\n",
    "เราสร้าง function เสริมออกมา เพื่อทำให้การ print ดูง่ายขึ้น\n",
    "\n",
    "อันนี้เป็น function ที่ทำไว้เผื่อ print พวก multivariated Polynomial regression ด้วย เลยดูใหญ่ๆ หน่อย\n",
    "\n",
    "* เพื่อรับค่า feature name (Xn), ค่า coef (m), interception (c), และ Polynomial degree แล้วสร้างเป็นสมการออกมา\n",
    "* return เป็น string ที่ทำให้อ่านง่ายขึ้น"
   ]
  },
  {
   "cell_type": "code",
   "execution_count": null,
   "metadata": {},
   "outputs": [],
   "source": [
    "# from decimal import Decimal\n",
    "# แสดงผลค่า decimal โดยละเอียดมากขึ้น\n",
    "# https://docs.python.org/3/library/decimal.html\n",
    "\n",
    "# Function: Generate polynomial equation\n",
    "def Poly_equation(feature, coef, intercept, power):\n",
    "    '''\n",
    "    Return fitted polynomial equation as a string\n",
    "    \n",
    "    feature: list of feature in dataset\n",
    "    power: degree of each feature in each term (can get from poly.powers_)\n",
    "    '''\n",
    "    poly_string = \"\"\n",
    "    \n",
    "    for i in range(len(coef)): # create polynomial term\n",
    "        \n",
    "        #Coefficients\n",
    "        if i == 0:\n",
    "            term_string = \"y = %.3E\" % coef[i]\n",
    "        elif coef[i] >= 0: # add + sign in front of coef\n",
    "            term_string = \"+%.3E\" % coef[i]\n",
    "        else:\n",
    "            term_string = \"%.3E\" % coef[i]\n",
    "        \n",
    "        #Powers\n",
    "        feature_order = 0\n",
    "        for power_iter in power[i]: # power for each feature\n",
    "            if power_iter == 1 : #degree of that feature = 1\n",
    "                term_string += '*' + str(feature[feature_order])\n",
    "            elif power_iter > 1 : #degree of that feature > 1\n",
    "                term_string += '*' + str(feature[feature_order]) + '^' + str(power_iter)\n",
    "            feature_order += 1\n",
    "        poly_string += term_string\n",
    "    \n",
    "    #Add intercept\n",
    "    if intercept >= 0:\n",
    "        poly_string += \"+\"\n",
    "    poly_string += \"%.3E\" % intercept\n",
    "    \n",
    "    return poly_string\n",
    "\n",
    "\n",
    "\n",
    "\n"
   ]
  },
  {
   "cell_type": "code",
   "execution_count": null,
   "metadata": {
    "scrolled": true
   },
   "outputs": [],
   "source": [
    "# print สมการโดยใช้ function สำเร็จรูป\n",
    "# from function: Poly_equation\n",
    "print(\"Equation: \" + Poly_equation('X1', lg.coef_, lg.intercept_, [[1]]))"
   ]
  }
 ],
 "metadata": {
  "anaconda-cloud": {},
  "kernelspec": {
   "display_name": "Python 3",
   "language": "python",
   "name": "python3"
  },
  "language_info": {
   "codemirror_mode": {
    "name": "ipython",
    "version": 3
   },
   "file_extension": ".py",
   "mimetype": "text/x-python",
   "name": "python",
   "nbconvert_exporter": "python",
   "pygments_lexer": "ipython3",
   "version": "3.7.0"
  }
 },
 "nbformat": 4,
 "nbformat_minor": 2
}
