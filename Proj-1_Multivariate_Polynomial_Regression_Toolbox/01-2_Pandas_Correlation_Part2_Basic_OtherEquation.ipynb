{
 "cells": [
  {
   "cell_type": "markdown",
   "metadata": {},
   "source": [
    "<h1 align=\"Left\"> Pandas Dataframe x Regression Correlation </h1>\n",
    "\n",
    "<h2 align=\"left\"> Basic Correlation with Other Trend Lines in Excel  </h2>\n",
    "\n",
    "<img src = \"pic_data/Dextract.png\" width = \"500\" align=\"center\">\n",
    "\n",
    "<img src = \"pic_data/elephant_logo.jpg\" width = \"300\">"
   ]
  },
  {
   "cell_type": "markdown",
   "metadata": {},
   "source": [
    "## 1. Import Library and Load input"
   ]
  },
  {
   "cell_type": "code",
   "execution_count": null,
   "metadata": {},
   "outputs": [],
   "source": [
    "from sklearn.linear_model import LinearRegression # Module ที่เอาไว้ใช้ทำ linear regression\n",
    "\n",
    "import pandas as pd\n",
    "\n",
    "import numpy as np # Use some mathematical equation for fitting"
   ]
  },
  {
   "cell_type": "markdown",
   "metadata": {},
   "source": [
    "* เตรียมข้อมูล อ่านเข้ามาจาก Excel\n",
    "* ลองเปิด Excel file ดู จะเห็นว่า Y ถูกสร้างจาก สมการ degree 2 จาก 2 ตัวแปร (multivariated polynomial equation)\n",
    "\n",
    "<img src = \"Pic_data/excel_data.png\" width = 300>"
   ]
  },
  {
   "cell_type": "code",
   "execution_count": null,
   "metadata": {},
   "outputs": [],
   "source": [
    "df = pd.read_excel('input_test_data.xlsx')\n",
    "df.head()"
   ]
  },
  {
   "cell_type": "code",
   "execution_count": null,
   "metadata": {},
   "outputs": [],
   "source": [
    "# แบ่ง dataframe เป็นตัวแปร X และ y\n",
    "# ในตัวอย่างนี้จะใช้แค่ X1 ในการสร้างสมการ\n",
    "X = df[[df.columns[1]]] #X input\n",
    "X.head()"
   ]
  },
  {
   "cell_type": "code",
   "execution_count": null,
   "metadata": {},
   "outputs": [],
   "source": [
    "y = df[df.columns[0]]\n",
    "y.head()"
   ]
  },
  {
   "cell_type": "markdown",
   "metadata": {},
   "source": [
    "สมการแบบอื่นก็มี เช่น Expo, log, power <br>\n",
    "สำหรับสมการในรูปแบบ Exponential, Natural log และ Power จะใช้ฟังก์ชัน LinearRegression ของ ในการหาค่าคงที่"
   ]
  },
  {
   "cell_type": "markdown",
   "metadata": {},
   "source": [
    "## 1. Exponential fitting"
   ]
  },
  {
   "cell_type": "markdown",
   "metadata": {},
   "source": [
    "<img src = \"Pic_data/excel_expo_x1.png\" width = 500>"
   ]
  },
  {
   "attachments": {},
   "cell_type": "markdown",
   "metadata": {},
   "source": [
    "Desired equation: y = exp(a) * exp(b*x)\n",
    "\n",
    "Transformed to:\n",
    "\n",
    "ln⁡(𝑦)=    𝑎     +     𝑏∗𝑥"
   ]
  },
  {
   "cell_type": "code",
   "execution_count": null,
   "metadata": {},
   "outputs": [],
   "source": [
    "X_fit = X\n",
    "X_fit.head()"
   ]
  },
  {
   "cell_type": "code",
   "execution_count": null,
   "metadata": {},
   "outputs": [],
   "source": [
    "y_fit = np.log(y)\n",
    "y_fit.head()"
   ]
  },
  {
   "cell_type": "code",
   "execution_count": null,
   "metadata": {},
   "outputs": [],
   "source": [
    "lg = LinearRegression()\n",
    "lg.fit(X_fit, y_fit )"
   ]
  },
  {
   "cell_type": "code",
   "execution_count": null,
   "metadata": {},
   "outputs": [],
   "source": [
    "a = lg.intercept_\n",
    "a"
   ]
  },
  {
   "cell_type": "code",
   "execution_count": null,
   "metadata": {},
   "outputs": [],
   "source": [
    "b = lg.coef_\n",
    "b"
   ]
  },
  {
   "cell_type": "code",
   "execution_count": null,
   "metadata": {},
   "outputs": [],
   "source": [
    "r2 = lg.score(X_fit, y_fit)\n",
    "r2"
   ]
  },
  {
   "cell_type": "markdown",
   "metadata": {},
   "source": [
    "### Display result from exponential Fitting"
   ]
  },
  {
   "cell_type": "code",
   "execution_count": null,
   "metadata": {},
   "outputs": [],
   "source": [
    "# Function: Generate exponential equation\n",
    "\n",
    "def Exp_equation(feature,a,b,r2):\n",
    "    # Desired equation: y = exp(a)*exp(b*x)\n",
    "    # feature = feature name\n",
    "    # a = constant variable to multiply the term (in term of exp(a))\n",
    "    # b = constant variable to multiply the unknown x\n",
    "    \n",
    "    exp_eq_string = \"y = %.2E*exp(%.2E*%s)\" % (np.exp(a),b,feature) # ต้องทำการ convert a กลับเป็น exp(a)\n",
    "    exp_r2_string = \"R-square = %.3f\" % (r2)\n",
    "    return (exp_eq_string, exp_r2_string)\n"
   ]
  },
  {
   "cell_type": "code",
   "execution_count": null,
   "metadata": {},
   "outputs": [],
   "source": [
    "print(Exp_equation('X1',a,b,r2))"
   ]
  },
  {
   "cell_type": "markdown",
   "metadata": {},
   "source": [
    "## 2. Logarithmic Fitting"
   ]
  },
  {
   "cell_type": "markdown",
   "metadata": {},
   "source": [
    "<img src = \"Pic_data/excel_log_x1.png\" width = 500>"
   ]
  },
  {
   "cell_type": "markdown",
   "metadata": {},
   "source": [
    "a, b from equation y = aln(x)+b "
   ]
  },
  {
   "cell_type": "code",
   "execution_count": null,
   "metadata": {},
   "outputs": [],
   "source": [
    "X_fit = np.log(X)\n",
    "X_fit.head()"
   ]
  },
  {
   "cell_type": "code",
   "execution_count": null,
   "metadata": {},
   "outputs": [],
   "source": [
    "y_fit = y\n",
    "y_fit.head()"
   ]
  },
  {
   "cell_type": "code",
   "execution_count": null,
   "metadata": {},
   "outputs": [],
   "source": [
    "lg = LinearRegression()\n",
    "lg.fit(X_fit, y_fit )"
   ]
  },
  {
   "cell_type": "code",
   "execution_count": null,
   "metadata": {},
   "outputs": [],
   "source": [
    "a = lg.intercept_\n",
    "a"
   ]
  },
  {
   "cell_type": "code",
   "execution_count": null,
   "metadata": {},
   "outputs": [],
   "source": [
    "b = lg.coef_\n",
    "b"
   ]
  },
  {
   "cell_type": "code",
   "execution_count": null,
   "metadata": {},
   "outputs": [],
   "source": [
    "r2 = lg.score(X_fit, y_fit )"
   ]
  },
  {
   "cell_type": "markdown",
   "metadata": {},
   "source": [
    "### Display equation for log fitting"
   ]
  },
  {
   "cell_type": "code",
   "execution_count": null,
   "metadata": {},
   "outputs": [],
   "source": [
    "# Function: Generate log equation\n",
    "# feature = name of feature\n",
    "# a, b from equation y = aln(x)+b \n",
    "\n",
    "def Log_equation(feature,a,b):\n",
    "    # Desired equation: y = aln(x)+b\n",
    "    # .2E is scietific number formatting\n",
    "    log_string = \"y = %.2E*ln(%s)\" % (b,feature)\n",
    "    \n",
    "    if a >= 0:\n",
    "        log_string += \"+\"\n",
    "        \n",
    "    log_string += \"%.2E\" % a # add constant coefficient\n",
    "    \n",
    "    return log_string"
   ]
  },
  {
   "cell_type": "code",
   "execution_count": null,
   "metadata": {},
   "outputs": [],
   "source": [
    "Log_equation('X1',a,b)"
   ]
  },
  {
   "cell_type": "markdown",
   "metadata": {},
   "source": [
    "## 3. Power fitting\n",
    "\n",
    "<img src = \"Pic_data/excel_power_x1.png\" width = 500>\n",
    "\n",
    "Initial Equation: 𝑦=𝑎𝑋^𝑏\n",
    "\n",
    "Transformed to: ln⁡(𝑦)=ln⁡(𝑎)+bln⁡(𝑋)"
   ]
  },
  {
   "cell_type": "code",
   "execution_count": null,
   "metadata": {},
   "outputs": [],
   "source": [
    "X_fit = np.log(X)\n",
    "X_fit.head()"
   ]
  },
  {
   "cell_type": "code",
   "execution_count": null,
   "metadata": {},
   "outputs": [],
   "source": [
    "y_fit = np.log(y)\n",
    "y_fit.head()"
   ]
  },
  {
   "cell_type": "code",
   "execution_count": null,
   "metadata": {},
   "outputs": [],
   "source": [
    "lg = LinearRegression()\n",
    "lg.fit(X_fit, y_fit )"
   ]
  },
  {
   "cell_type": "code",
   "execution_count": null,
   "metadata": {},
   "outputs": [],
   "source": [
    "a = lg.intercept_\n",
    "a"
   ]
  },
  {
   "cell_type": "code",
   "execution_count": null,
   "metadata": {},
   "outputs": [],
   "source": [
    "b = lg.coef_\n",
    "b"
   ]
  },
  {
   "cell_type": "markdown",
   "metadata": {},
   "source": [
    "### Display Result for Power fitting"
   ]
  },
  {
   "cell_type": "code",
   "execution_count": null,
   "metadata": {},
   "outputs": [],
   "source": [
    "# Function: Generate power equation\n",
    "def Power_equation(feature,b,a):\n",
    "    # Desired equation: y = exp(g)*x^f\n",
    "    pow_string = \"y = %.2E*%s^(%.2E)\" % (np.exp(a),feature,b)\n",
    "    return pow_string"
   ]
  },
  {
   "cell_type": "code",
   "execution_count": null,
   "metadata": {},
   "outputs": [],
   "source": [
    "print(Power_equation('X1',b,a))"
   ]
  }
 ],
 "metadata": {
  "anaconda-cloud": {},
  "kernelspec": {
   "display_name": "Python 3",
   "language": "python",
   "name": "python3"
  },
  "language_info": {
   "codemirror_mode": {
    "name": "ipython",
    "version": 3
   },
   "file_extension": ".py",
   "mimetype": "text/x-python",
   "name": "python",
   "nbconvert_exporter": "python",
   "pygments_lexer": "ipython3",
   "version": "3.7.0"
  }
 },
 "nbformat": 4,
 "nbformat_minor": 2
}
