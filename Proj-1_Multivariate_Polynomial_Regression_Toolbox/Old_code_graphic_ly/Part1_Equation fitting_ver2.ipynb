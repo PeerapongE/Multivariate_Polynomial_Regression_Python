{
 "cells": [
  {
   "cell_type": "markdown",
   "metadata": {},
   "source": [
    "### Part 1: Equation fitting"
   ]
  },
  {
   "cell_type": "markdown",
   "metadata": {},
   "source": [
    "#### Step 0: Preparation"
   ]
  },
  {
   "cell_type": "markdown",
   "metadata": {},
   "source": [
    "- Import Libraries"
   ]
  },
  {
   "cell_type": "code",
   "execution_count": 1,
   "metadata": {},
   "outputs": [],
   "source": [
    "from sklearn.preprocessing import PolynomialFeatures\n",
    "from sklearn.linear_model import LinearRegression\n",
    "from sklearn.metrics import r2_score\n",
    "import pandas as pd\n",
    "import numpy as np\n"
   ]
  },
  {
   "cell_type": "markdown",
   "metadata": {},
   "source": [
    "- สร้าง function สำหรับ print สมการ (อ่านข้ามส่วนนี้ไปได้)"
   ]
  },
  {
   "cell_type": "code",
   "execution_count": 2,
   "metadata": {},
   "outputs": [],
   "source": []
  },
  {
   "cell_type": "markdown",
   "metadata": {},
   "source": [
    "- เตรียมข้อมูล"
   ]
  },
  {
   "cell_type": "code",
   "execution_count": 3,
   "metadata": {},
   "outputs": [
    {
     "data": {
      "text/html": [
       "<div>\n",
       "<style scoped>\n",
       "    .dataframe tbody tr th:only-of-type {\n",
       "        vertical-align: middle;\n",
       "    }\n",
       "\n",
       "    .dataframe tbody tr th {\n",
       "        vertical-align: top;\n",
       "    }\n",
       "\n",
       "    .dataframe thead th {\n",
       "        text-align: right;\n",
       "    }\n",
       "</style>\n",
       "<table border=\"1\" class=\"dataframe\">\n",
       "  <thead>\n",
       "    <tr style=\"text-align: right;\">\n",
       "      <th></th>\n",
       "      <th>Y</th>\n",
       "      <th>X1</th>\n",
       "      <th>X2</th>\n",
       "      <th>X3</th>\n",
       "    </tr>\n",
       "  </thead>\n",
       "  <tbody>\n",
       "    <tr>\n",
       "      <th>0</th>\n",
       "      <td>222000.0</td>\n",
       "      <td>1</td>\n",
       "      <td>6.3</td>\n",
       "      <td>2016</td>\n",
       "    </tr>\n",
       "    <tr>\n",
       "      <th>1</th>\n",
       "      <td>177000.0</td>\n",
       "      <td>1</td>\n",
       "      <td>5.5</td>\n",
       "      <td>2016</td>\n",
       "    </tr>\n",
       "    <tr>\n",
       "      <th>2</th>\n",
       "      <td>177777.0</td>\n",
       "      <td>1</td>\n",
       "      <td>5.5</td>\n",
       "      <td>2016</td>\n",
       "    </tr>\n",
       "    <tr>\n",
       "      <th>3</th>\n",
       "      <td>199999.0</td>\n",
       "      <td>1</td>\n",
       "      <td>5.5</td>\n",
       "      <td>2016</td>\n",
       "    </tr>\n",
       "    <tr>\n",
       "      <th>4</th>\n",
       "      <td>199999.0</td>\n",
       "      <td>1</td>\n",
       "      <td>5.5</td>\n",
       "      <td>2016</td>\n",
       "    </tr>\n",
       "  </tbody>\n",
       "</table>\n",
       "</div>"
      ],
      "text/plain": [
       "          Y  X1   X2    X3\n",
       "0  222000.0   1  6.3  2016\n",
       "1  177000.0   1  5.5  2016\n",
       "2  177777.0   1  5.5  2016\n",
       "3  199999.0   1  5.5  2016\n",
       "4  199999.0   1  5.5  2016"
      ]
     },
     "execution_count": 3,
     "metadata": {},
     "output_type": "execute_result"
    }
   ],
   "source": [
    "# ดึงข้อมูลจากไฟล์ csv\n",
    "df = pd.read_csv(\"input.csv\")\n",
    "df.head()"
   ]
  },
  {
   "cell_type": "code",
   "execution_count": 11,
   "metadata": {},
   "outputs": [],
   "source": [
    "# แบ่ง dataframe เป็นตัวแปร X และ y\n",
    "# ในตัวอย่างนี้จะใช้แค่ X1 ในการสร้างสมการ\n",
    "X = df[[df.columns[1]]] #X input\n",
    "y = df[df.columns[0]]"
   ]
  },
  {
   "cell_type": "code",
   "execution_count": 12,
   "metadata": {},
   "outputs": [
    {
     "data": {
      "text/html": [
       "<div>\n",
       "<style scoped>\n",
       "    .dataframe tbody tr th:only-of-type {\n",
       "        vertical-align: middle;\n",
       "    }\n",
       "\n",
       "    .dataframe tbody tr th {\n",
       "        vertical-align: top;\n",
       "    }\n",
       "\n",
       "    .dataframe thead th {\n",
       "        text-align: right;\n",
       "    }\n",
       "</style>\n",
       "<table border=\"1\" class=\"dataframe\">\n",
       "  <thead>\n",
       "    <tr style=\"text-align: right;\">\n",
       "      <th></th>\n",
       "      <th>X1</th>\n",
       "    </tr>\n",
       "  </thead>\n",
       "  <tbody>\n",
       "    <tr>\n",
       "      <th>0</th>\n",
       "      <td>1</td>\n",
       "    </tr>\n",
       "    <tr>\n",
       "      <th>1</th>\n",
       "      <td>1</td>\n",
       "    </tr>\n",
       "    <tr>\n",
       "      <th>2</th>\n",
       "      <td>1</td>\n",
       "    </tr>\n",
       "    <tr>\n",
       "      <th>3</th>\n",
       "      <td>1</td>\n",
       "    </tr>\n",
       "    <tr>\n",
       "      <th>4</th>\n",
       "      <td>1</td>\n",
       "    </tr>\n",
       "    <tr>\n",
       "      <th>5</th>\n",
       "      <td>1</td>\n",
       "    </tr>\n",
       "    <tr>\n",
       "      <th>6</th>\n",
       "      <td>1</td>\n",
       "    </tr>\n",
       "    <tr>\n",
       "      <th>7</th>\n",
       "      <td>1</td>\n",
       "    </tr>\n",
       "    <tr>\n",
       "      <th>8</th>\n",
       "      <td>1</td>\n",
       "    </tr>\n",
       "    <tr>\n",
       "      <th>9</th>\n",
       "      <td>1</td>\n",
       "    </tr>\n",
       "    <tr>\n",
       "      <th>10</th>\n",
       "      <td>1</td>\n",
       "    </tr>\n",
       "    <tr>\n",
       "      <th>11</th>\n",
       "      <td>1</td>\n",
       "    </tr>\n",
       "    <tr>\n",
       "      <th>12</th>\n",
       "      <td>1</td>\n",
       "    </tr>\n",
       "    <tr>\n",
       "      <th>13</th>\n",
       "      <td>1</td>\n",
       "    </tr>\n",
       "    <tr>\n",
       "      <th>14</th>\n",
       "      <td>1</td>\n",
       "    </tr>\n",
       "    <tr>\n",
       "      <th>15</th>\n",
       "      <td>1</td>\n",
       "    </tr>\n",
       "    <tr>\n",
       "      <th>16</th>\n",
       "      <td>1</td>\n",
       "    </tr>\n",
       "    <tr>\n",
       "      <th>17</th>\n",
       "      <td>1</td>\n",
       "    </tr>\n",
       "    <tr>\n",
       "      <th>18</th>\n",
       "      <td>1</td>\n",
       "    </tr>\n",
       "    <tr>\n",
       "      <th>19</th>\n",
       "      <td>1</td>\n",
       "    </tr>\n",
       "    <tr>\n",
       "      <th>20</th>\n",
       "      <td>1</td>\n",
       "    </tr>\n",
       "    <tr>\n",
       "      <th>21</th>\n",
       "      <td>1</td>\n",
       "    </tr>\n",
       "    <tr>\n",
       "      <th>22</th>\n",
       "      <td>1</td>\n",
       "    </tr>\n",
       "    <tr>\n",
       "      <th>23</th>\n",
       "      <td>1</td>\n",
       "    </tr>\n",
       "    <tr>\n",
       "      <th>24</th>\n",
       "      <td>1</td>\n",
       "    </tr>\n",
       "    <tr>\n",
       "      <th>25</th>\n",
       "      <td>1</td>\n",
       "    </tr>\n",
       "    <tr>\n",
       "      <th>26</th>\n",
       "      <td>1</td>\n",
       "    </tr>\n",
       "    <tr>\n",
       "      <th>27</th>\n",
       "      <td>1</td>\n",
       "    </tr>\n",
       "    <tr>\n",
       "      <th>28</th>\n",
       "      <td>1</td>\n",
       "    </tr>\n",
       "    <tr>\n",
       "      <th>29</th>\n",
       "      <td>1</td>\n",
       "    </tr>\n",
       "    <tr>\n",
       "      <th>...</th>\n",
       "      <td>...</td>\n",
       "    </tr>\n",
       "    <tr>\n",
       "      <th>3973</th>\n",
       "      <td>300</td>\n",
       "    </tr>\n",
       "    <tr>\n",
       "      <th>3974</th>\n",
       "      <td>311</td>\n",
       "    </tr>\n",
       "    <tr>\n",
       "      <th>3975</th>\n",
       "      <td>400</td>\n",
       "    </tr>\n",
       "    <tr>\n",
       "      <th>3976</th>\n",
       "      <td>30</td>\n",
       "    </tr>\n",
       "    <tr>\n",
       "      <th>3977</th>\n",
       "      <td>33</td>\n",
       "    </tr>\n",
       "    <tr>\n",
       "      <th>3978</th>\n",
       "      <td>140</td>\n",
       "    </tr>\n",
       "    <tr>\n",
       "      <th>3979</th>\n",
       "      <td>150</td>\n",
       "    </tr>\n",
       "    <tr>\n",
       "      <th>3980</th>\n",
       "      <td>194</td>\n",
       "    </tr>\n",
       "    <tr>\n",
       "      <th>3981</th>\n",
       "      <td>270</td>\n",
       "    </tr>\n",
       "    <tr>\n",
       "      <th>3982</th>\n",
       "      <td>280</td>\n",
       "    </tr>\n",
       "    <tr>\n",
       "      <th>3983</th>\n",
       "      <td>281</td>\n",
       "    </tr>\n",
       "    <tr>\n",
       "      <th>3984</th>\n",
       "      <td>290</td>\n",
       "    </tr>\n",
       "    <tr>\n",
       "      <th>3985</th>\n",
       "      <td>350</td>\n",
       "    </tr>\n",
       "    <tr>\n",
       "      <th>3986</th>\n",
       "      <td>390</td>\n",
       "    </tr>\n",
       "    <tr>\n",
       "      <th>3987</th>\n",
       "      <td>470</td>\n",
       "    </tr>\n",
       "    <tr>\n",
       "      <th>3988</th>\n",
       "      <td>10</td>\n",
       "    </tr>\n",
       "    <tr>\n",
       "      <th>3989</th>\n",
       "      <td>300</td>\n",
       "    </tr>\n",
       "    <tr>\n",
       "      <th>3990</th>\n",
       "      <td>324</td>\n",
       "    </tr>\n",
       "    <tr>\n",
       "      <th>3991</th>\n",
       "      <td>110</td>\n",
       "    </tr>\n",
       "    <tr>\n",
       "      <th>3992</th>\n",
       "      <td>237</td>\n",
       "    </tr>\n",
       "    <tr>\n",
       "      <th>3993</th>\n",
       "      <td>94</td>\n",
       "    </tr>\n",
       "    <tr>\n",
       "      <th>3994</th>\n",
       "      <td>1</td>\n",
       "    </tr>\n",
       "    <tr>\n",
       "      <th>3995</th>\n",
       "      <td>112</td>\n",
       "    </tr>\n",
       "    <tr>\n",
       "      <th>3996</th>\n",
       "      <td>230</td>\n",
       "    </tr>\n",
       "    <tr>\n",
       "      <th>3997</th>\n",
       "      <td>1</td>\n",
       "    </tr>\n",
       "    <tr>\n",
       "      <th>3998</th>\n",
       "      <td>10</td>\n",
       "    </tr>\n",
       "    <tr>\n",
       "      <th>3999</th>\n",
       "      <td>300</td>\n",
       "    </tr>\n",
       "    <tr>\n",
       "      <th>4000</th>\n",
       "      <td>261</td>\n",
       "    </tr>\n",
       "    <tr>\n",
       "      <th>4001</th>\n",
       "      <td>440</td>\n",
       "    </tr>\n",
       "    <tr>\n",
       "      <th>4002</th>\n",
       "      <td>150</td>\n",
       "    </tr>\n",
       "  </tbody>\n",
       "</table>\n",
       "<p>4003 rows × 1 columns</p>\n",
       "</div>"
      ],
      "text/plain": [
       "       X1\n",
       "0       1\n",
       "1       1\n",
       "2       1\n",
       "3       1\n",
       "4       1\n",
       "5       1\n",
       "6       1\n",
       "7       1\n",
       "8       1\n",
       "9       1\n",
       "10      1\n",
       "11      1\n",
       "12      1\n",
       "13      1\n",
       "14      1\n",
       "15      1\n",
       "16      1\n",
       "17      1\n",
       "18      1\n",
       "19      1\n",
       "20      1\n",
       "21      1\n",
       "22      1\n",
       "23      1\n",
       "24      1\n",
       "25      1\n",
       "26      1\n",
       "27      1\n",
       "28      1\n",
       "29      1\n",
       "...   ...\n",
       "3973  300\n",
       "3974  311\n",
       "3975  400\n",
       "3976   30\n",
       "3977   33\n",
       "3978  140\n",
       "3979  150\n",
       "3980  194\n",
       "3981  270\n",
       "3982  280\n",
       "3983  281\n",
       "3984  290\n",
       "3985  350\n",
       "3986  390\n",
       "3987  470\n",
       "3988   10\n",
       "3989  300\n",
       "3990  324\n",
       "3991  110\n",
       "3992  237\n",
       "3993   94\n",
       "3994    1\n",
       "3995  112\n",
       "3996  230\n",
       "3997    1\n",
       "3998   10\n",
       "3999  300\n",
       "4000  261\n",
       "4001  440\n",
       "4002  150\n",
       "\n",
       "[4003 rows x 1 columns]"
      ]
     },
     "execution_count": 12,
     "metadata": {},
     "output_type": "execute_result"
    }
   ],
   "source": [
    "X"
   ]
  },
  {
   "cell_type": "code",
   "execution_count": 6,
   "metadata": {},
   "outputs": [
    {
     "data": {
      "text/plain": [
       "0       222000.00\n",
       "1       177000.00\n",
       "2       177777.00\n",
       "3       199999.00\n",
       "4       199999.00\n",
       "5       199999.00\n",
       "6       199999.00\n",
       "7       185555.00\n",
       "8       187555.00\n",
       "9       189999.00\n",
       "10      129999.00\n",
       "11      154999.00\n",
       "12       99999.00\n",
       "13       99999.00\n",
       "14       99999.00\n",
       "15      100000.00\n",
       "16      102999.00\n",
       "17      103999.00\n",
       "18      103999.00\n",
       "19      195000.00\n",
       "20      195000.00\n",
       "21      139000.00\n",
       "22      124000.00\n",
       "23      109000.00\n",
       "24       66346.00\n",
       "25       67622.55\n",
       "26       71138.00\n",
       "27       72000.00\n",
       "28       80999.00\n",
       "29       81500.00\n",
       "          ...    \n",
       "3973      3950.00\n",
       "3974      3100.00\n",
       "3975      1999.00\n",
       "3976      2650.00\n",
       "3977      2200.00\n",
       "3978      1100.00\n",
       "3979      1852.50\n",
       "3980      8000.00\n",
       "3981      1750.00\n",
       "3982      4300.00\n",
       "3983      1850.00\n",
       "3984      2200.00\n",
       "3985      6000.00\n",
       "3986      3200.00\n",
       "3987      2650.00\n",
       "3988      1300.00\n",
       "3989      1899.00\n",
       "3990      2500.00\n",
       "3991      3700.00\n",
       "3992      2400.00\n",
       "3993      1950.00\n",
       "3994      1296.75\n",
       "3995       600.00\n",
       "3996      7777.00\n",
       "3997      1950.00\n",
       "3998       600.00\n",
       "3999      2990.00\n",
       "4000      2300.00\n",
       "4001      5500.00\n",
       "4002     34999.00\n",
       "Name: Y, Length: 4003, dtype: float64"
      ]
     },
     "execution_count": 6,
     "metadata": {},
     "output_type": "execute_result"
    }
   ],
   "source": [
    "y"
   ]
  },
  {
   "cell_type": "markdown",
   "metadata": {},
   "source": [
    "#### Step 1: สร้างสมการ 1 ตัวแปร"
   ]
  },
  {
   "cell_type": "markdown",
   "metadata": {},
   "source": [
    "เริ่มจากสมการเส้นตรงธรรมดากันก่อน\n",
    "- Linear fitting degree 1 (1 feature)"
   ]
  },
  {
   "cell_type": "code",
   "execution_count": 13,
   "metadata": {},
   "outputs": [
    {
     "name": "stdout",
     "output_type": "stream",
     "text": [
      "Equation: y = -1.18E+02*X+3.90E+04\n",
      "R-Square = 0.224\n",
      "\n"
     ]
    }
   ],
   "source": [
    "# Linear fitting: y = ax + b\n",
    "lg = LinearRegression()\n",
    "lg.fit(X, y)\n"
   ]
  },
  {
   "cell_type": "code",
   "execution_count": 14,
   "metadata": {},
   "outputs": [
    {
     "data": {
      "text/plain": [
       "array([-118.33491101])"
      ]
     },
     "execution_count": 14,
     "metadata": {},
     "output_type": "execute_result"
    }
   ],
   "source": [
    "# Slope (m) from equation: (y = mx + c)\n",
    "lg.coef_"
   ]
  },
  {
   "cell_type": "code",
   "execution_count": 16,
   "metadata": {},
   "outputs": [
    {
     "data": {
      "text/plain": [
       "38957.29770006296"
      ]
     },
     "execution_count": 16,
     "metadata": {},
     "output_type": "execute_result"
    }
   ],
   "source": [
    "# Interception (c)  from equation: (y = mx + c)\n",
    "lg.intercept_"
   ]
  },
  {
   "cell_type": "code",
   "execution_count": 18,
   "metadata": {},
   "outputs": [
    {
     "data": {
      "text/plain": [
       "0.22376321884491931"
      ]
     },
     "execution_count": 18,
     "metadata": {},
     "output_type": "execute_result"
    }
   ],
   "source": [
    "# lg score (R-square)\n",
    "lg.score(X,y)"
   ]
  },
  {
   "cell_type": "markdown",
   "metadata": {},
   "source": [
    "## แสดงผลออกมา\n",
    "\n",
    "เราสร้าง function เสริมออกมา เพื่อทำให้การ print ดูง่ายขึ้น\n",
    "\n",
    "* เพื่อรับค่า feature name (Xn), ค่า coef (m), interception (c), และ Polynomial degree แล้วสร้างเป็นสมการออกมา\n",
    "* return เป็น string ที่ทำให้อ่านง่ายขึ้น"
   ]
  },
  {
   "cell_type": "code",
   "execution_count": 20,
   "metadata": {},
   "outputs": [],
   "source": [
    "from decimal import Decimal\n",
    "\n",
    "# Function: Generate polynomial equation\n",
    "def Poly_equation(feature, coef, intercept, power):\n",
    "    '''\n",
    "    Return fitted polynomial equation as a string\n",
    "    \n",
    "    feature: list of feature in dataset\n",
    "    power: degree of each feature in each term (can get from poly.powers_)\n",
    "    '''\n",
    "    poly_string = \"\"\n",
    "    \n",
    "    for i in range(len(coef)): # create polynomial term\n",
    "        \n",
    "        #Coefficients\n",
    "        if i == 0:\n",
    "            term_string = \"y = %.2E\" % Decimal(coef[i])\n",
    "        elif coef[i] >= 0: # add + sign in front of coef\n",
    "            term_string = \"+%.2E\" % Decimal(coef[i])\n",
    "        else:\n",
    "            term_string = \"%.2E\" % Decimal(coef[i])\n",
    "        \n",
    "        #Powers\n",
    "        feature_order = 0\n",
    "        for power_iter in power[i]: # power for each feature\n",
    "            if power_iter == 1 : #degree of that feature = 1\n",
    "                term_string += '*' + str(feature[feature_order])\n",
    "            elif power_iter > 1 : #degree of that feature > 1\n",
    "                term_string += '*' + str(feature[feature_order]) + '^' + str(power_iter)\n",
    "            feature_order += 1\n",
    "        poly_string += term_string\n",
    "    \n",
    "    #Add intercept\n",
    "    if intercept >= 0:\n",
    "        poly_string += \"+\"\n",
    "    poly_string += \"%.2E\" % Decimal(intercept)\n",
    "    \n",
    "    return poly_string\n",
    "\n",
    "# Function: Generate log equation\n",
    "def Log_equation(feature,a,b):\n",
    "    # Desired equation: y = bln(x)+a\n",
    "    log_string = \"y = %.2E*ln(%s)\" % (Decimal(b),feature)\n",
    "    if a >= 0:\n",
    "        log_string += \"+\"\n",
    "    log_string += \"%.2E\" % Decimal(a)\n",
    "    return log_string\n",
    "\n",
    "# Function: Generate exponential equation\n",
    "def Exp_equation(feature,d,e):\n",
    "    # Desired equation: y = exp(e)*exp(d*x)\n",
    "    exp_string = \"y = %.2E*exp(%.2E*%s)\" % (Decimal(np.exp(e)),Decimal(d),feature)\n",
    "    return exp_string\n",
    "\n",
    "# Function: Generate power equation\n",
    "def Power_equation(feature,f,g):\n",
    "    # Desired equation: y = exp(g)*x^f\n",
    "    pow_string = \"y = %.2E*%s^(%.2E)\" % (Decimal(np.exp(g)),feature,Decimal(f))\n",
    "    return pow_string"
   ]
  },
  {
   "cell_type": "code",
   "execution_count": 21,
   "metadata": {},
   "outputs": [
    {
     "name": "stdout",
     "output_type": "stream",
     "text": [
      "Equation: y = -1.18E+02*X+3.90E+04\n",
      "R-Square = 0.224\n",
      "\n"
     ]
    }
   ],
   "source": [
    "# print สมการและค่า R-square\n",
    "# from function: Poly_equation\n",
    "print(\"Equation: \" + Poly_equation('X1', lg.coef_, lg.intercept_, [[1]]))\n",
    "print(\"R-Square = \"+ str(np.round(lg.score(X,y),3))+\"\\n\")"
   ]
  },
  {
   "cell_type": "markdown",
   "metadata": {},
   "source": [
    "ลองมาสร้างสมการพหุนามกันต่อ\n",
    "- Linear fitting degree 3 (1 feature)  <br>\n",
    "ขั้นแรกคือการนำตัวแปรที่มีไปสร้างเป็นตัวแปรพหุนามตัวแปรใหม่ ตั้งชื่อว่า X_"
   ]
  },
  {
   "cell_type": "code",
   "execution_count": 22,
   "metadata": {},
   "outputs": [
    {
     "name": "stdout",
     "output_type": "stream",
     "text": [
      "Polynomial degree: 3\n",
      "Degree for each feature:\n",
      "[[1]\n",
      " [2]\n",
      " [3]]\n"
     ]
    }
   ],
   "source": [
    "nPoly = 3 #กำหนดให้เป็นสมการดีกรี 3\n",
    "# create polynomial feature\n",
    "poly = PolynomialFeatures(degree=nPoly, include_bias=None)\n",
    "# transform features to polynomial terms\n",
    "X_ = poly.fit_transform(X) \n",
    "print(\"Polynomial degree: \"+str(nPoly))\n",
    "print(\"Degree for each feature:\\n\" + str(poly.powers_))"
   ]
  },
  {
   "cell_type": "code",
   "execution_count": 27,
   "metadata": {},
   "outputs": [
    {
     "data": {
      "text/html": [
       "<div>\n",
       "<style scoped>\n",
       "    .dataframe tbody tr th:only-of-type {\n",
       "        vertical-align: middle;\n",
       "    }\n",
       "\n",
       "    .dataframe tbody tr th {\n",
       "        vertical-align: top;\n",
       "    }\n",
       "\n",
       "    .dataframe thead th {\n",
       "        text-align: right;\n",
       "    }\n",
       "</style>\n",
       "<table border=\"1\" class=\"dataframe\">\n",
       "  <thead>\n",
       "    <tr style=\"text-align: right;\">\n",
       "      <th></th>\n",
       "      <th>X1</th>\n",
       "    </tr>\n",
       "  </thead>\n",
       "  <tbody>\n",
       "    <tr>\n",
       "      <th>3998</th>\n",
       "      <td>10</td>\n",
       "    </tr>\n",
       "    <tr>\n",
       "      <th>3999</th>\n",
       "      <td>300</td>\n",
       "    </tr>\n",
       "    <tr>\n",
       "      <th>4000</th>\n",
       "      <td>261</td>\n",
       "    </tr>\n",
       "    <tr>\n",
       "      <th>4001</th>\n",
       "      <td>440</td>\n",
       "    </tr>\n",
       "    <tr>\n",
       "      <th>4002</th>\n",
       "      <td>150</td>\n",
       "    </tr>\n",
       "  </tbody>\n",
       "</table>\n",
       "</div>"
      ],
      "text/plain": [
       "       X1\n",
       "3998   10\n",
       "3999  300\n",
       "4000  261\n",
       "4001  440\n",
       "4002  150"
      ]
     },
     "execution_count": 27,
     "metadata": {},
     "output_type": "execute_result"
    }
   ],
   "source": [
    "X[-5:]"
   ]
  },
  {
   "cell_type": "code",
   "execution_count": 28,
   "metadata": {},
   "outputs": [
    {
     "data": {
      "text/plain": [
       "array([[1.0000000e+01, 1.0000000e+02, 1.0000000e+03],\n",
       "       [3.0000000e+02, 9.0000000e+04, 2.7000000e+07],\n",
       "       [2.6100000e+02, 6.8121000e+04, 1.7779581e+07],\n",
       "       [4.4000000e+02, 1.9360000e+05, 8.5184000e+07],\n",
       "       [1.5000000e+02, 2.2500000e+04, 3.3750000e+06]])"
      ]
     },
     "execution_count": 28,
     "metadata": {},
     "output_type": "execute_result"
    }
   ],
   "source": [
    "X_[-5:,:]"
   ]
  },
  {
   "cell_type": "markdown",
   "metadata": {},
   "source": [
    "นั่นคือจะได้มา 3 พจน์ได้แก่ x, x^2 และ x^3 <br>\n",
    "หลังจากนั้น ลองสร้างสมการเส้นตรงจากตัวแปรใหม่ (x, x^2, x^3)"
   ]
  },
  {
   "cell_type": "code",
   "execution_count": 29,
   "metadata": {},
   "outputs": [
    {
     "name": "stdout",
     "output_type": "stream",
     "text": [
      "Equation: y = -3.85E+02*X+9.05E-01*X^2-5.66E-04*X^3+5.46E+04\n",
      "R-Square = 0.326\n",
      "\n"
     ]
    }
   ],
   "source": [
    "# Linear fitting: y = ax^3 + bx^2 + cx + d\n",
    "lg = LinearRegression()\n",
    "lg.fit(X_, y)\n",
    "# print สมการและค่า R-square\n",
    "print(\"Equation: \" + Poly_equation('X1', lg.coef_, lg.intercept_, poly.powers_))\n",
    "print(\"R-Square = \"+ str(np.round(lg.score(X_,y),3))+\"\\n\")"
   ]
  },
  {
   "cell_type": "markdown",
   "metadata": {},
   "source": [
    "สมการแบบอื่นก็มี เช่น Expo, log, power <br>\n",
    "สำหรับสมการในรูปแบบ Exponential, Natural log และ Power จะใช้ฟังก์ชัน polyfit ของ numpy ในการหาค่าคงที่"
   ]
  },
  {
   "cell_type": "markdown",
   "metadata": {},
   "source": [
    "<b> Exponential fitting </b> <br>"
   ]
  },
  {
   "cell_type": "code",
   "execution_count": null,
   "metadata": {},
   "outputs": [],
   "source": [
    "#Exponential fitting: y = a*exp(b*X)\n",
    "d,e = np.polyfit(X.loc[:,'X1'], np.log(y), 1) # input for polyfit must be 1D numpy array\n",
    "print(Exp_equation('X1',d,e))"
   ]
  },
  {
   "cell_type": "markdown",
   "metadata": {},
   "source": [
    "<b> Natural log fitting </b>"
   ]
  },
  {
   "cell_type": "code",
   "execution_count": null,
   "metadata": {},
   "outputs": [],
   "source": [
    "# Natural log fitting: y = a+bln(X)\n",
    "b,a = np.polyfit(X.loc[:,'X1'], y, 1)\n",
    "print(Log_equation('X1',a,b))"
   ]
  },
  {
   "cell_type": "markdown",
   "metadata": {},
   "source": [
    "<b> Power fitting </b>"
   ]
  },
  {
   "cell_type": "code",
   "execution_count": null,
   "metadata": {},
   "outputs": [],
   "source": [
    "#Power fitting: y = aX^b\n",
    "f,g = np.polyfit(X.loc[:,'X1'],np.log(y),1)\n",
    "print(Power_equation('X1',f,g))"
   ]
  },
  {
   "cell_type": "markdown",
   "metadata": {},
   "source": [
    "#### Step 2: สร้างสมการ 2 ตัวแปร"
   ]
  },
  {
   "cell_type": "markdown",
   "metadata": {},
   "source": [
    "<b> Linear fitting degree 3 (2 features) </b> <br>\n",
    "วิธีทำไม่ต่างจากการสร้างสมการ 1 ตัวแปรมากนัก"
   ]
  },
  {
   "cell_type": "code",
   "execution_count": 30,
   "metadata": {},
   "outputs": [],
   "source": [
    "# ในตัวอย่างนี้จะใช้ X1 และ X2 ในการสร้างสมการ\n",
    "XX = df.drop(df.columns[[0,3]], axis=1)"
   ]
  },
  {
   "cell_type": "code",
   "execution_count": 31,
   "metadata": {},
   "outputs": [
    {
     "name": "stdout",
     "output_type": "stream",
     "text": [
      "Polynomial degree: 3\n",
      "Degree for each feature(X1,X2):\n",
      "[[1 0]\n",
      " [0 1]\n",
      " [2 0]\n",
      " [1 1]\n",
      " [0 2]\n",
      " [3 0]\n",
      " [2 1]\n",
      " [1 2]\n",
      " [0 3]]\n"
     ]
    }
   ],
   "source": [
    "nPoly = 3\n",
    "# create polynomial feature\n",
    "poly = PolynomialFeatures(degree=nPoly, include_bias=None)\n",
    "# transform features to polynomial terms\n",
    "XX_ = poly.fit_transform(XX)\n",
    "print(\"Polynomial degree: \"+str(nPoly))\n",
    "print(\"Degree for each feature(X1,X2):\\n\" + str(poly.powers_))"
   ]
  },
  {
   "cell_type": "markdown",
   "metadata": {},
   "source": [
    "นั่นคือจะได้มา 9 พจน์ได้แก่ x1, x2, x1^2, x1\\*x2, x2^2, x1^3, x1^2\\*x2, x1\\*x2^2 และ x2^3 <br>\n",
    "หลังจากนั้น ลองสร้างสมการเส้นตรงจากตัวแปรใหม่"
   ]
  },
  {
   "cell_type": "code",
   "execution_count": 32,
   "metadata": {},
   "outputs": [
    {
     "name": "stdout",
     "output_type": "stream",
     "text": [
      "Equation: y = 6.78E+01*X1+2.39E+04*X2+1.72E-01*X1^2-1.63E+02*X1*X2+2.06E+03*X2^2-6.79E-04*X1^3+3.06E-01*X1^2*X2-5.72E+00*X1*X2^2-2.14E+02*X2^3-1.61E+04\n",
      "\n",
      "R-Square = 0.639\n",
      "\n"
     ]
    }
   ],
   "source": [
    "# Linear fitting\n",
    "lg = LinearRegression()\n",
    "lg.fit(XX_, y)\n",
    "# print สมการและค่า R-square\n",
    "print(\"Equation: \" + Poly_equation(['X1','X2'], lg.coef_, lg.intercept_, poly.powers_))\n",
    "print(\"\\nR-Square = \"+ str(np.round(lg.score(XX_,y),3))+\"\\n\")"
   ]
  },
  {
   "cell_type": "code",
   "execution_count": null,
   "metadata": {},
   "outputs": [],
   "source": []
  }
 ],
 "metadata": {
  "anaconda-cloud": {},
  "kernelspec": {
   "display_name": "Python 3",
   "language": "python",
   "name": "python3"
  },
  "language_info": {
   "codemirror_mode": {
    "name": "ipython",
    "version": 3
   },
   "file_extension": ".py",
   "mimetype": "text/x-python",
   "name": "python",
   "nbconvert_exporter": "python",
   "pygments_lexer": "ipython3",
   "version": "3.7.0"
  }
 },
 "nbformat": 4,
 "nbformat_minor": 2
}
