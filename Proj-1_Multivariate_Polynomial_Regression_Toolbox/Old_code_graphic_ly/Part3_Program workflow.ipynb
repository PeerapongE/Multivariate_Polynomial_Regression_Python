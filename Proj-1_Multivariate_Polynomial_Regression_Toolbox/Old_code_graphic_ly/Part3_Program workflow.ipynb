{
 "cells": [
  {
   "cell_type": "markdown",
   "metadata": {
    "collapsed": true
   },
   "source": [
    "### Part 3: Workflow ของการวน loop เลือกตัวแปรเพื่อนำมาสร้างสมการให้ครบทุกรูปแบบที่เป็นไปได้\n",
    "ประกอบด้วย 3 loops <br>\n",
    "Loop 1: เปลี่ยนจำนวน feature ที่ใช้ <br>\n",
    "Loop 2: เปลี่ยนกลุ่ม feature ที่จะนำมาใช้สร้างสมการ regression <br>\n",
    "Loop 3: เปลี่ยน polynomial degree "
   ]
  },
  {
   "cell_type": "markdown",
   "metadata": {},
   "source": [
    "<center><h3>Workflow Image</h3></center>\n",
    "<img src=\"workflow.png\" style=\"width: 500px;\" class=\"center\">"
   ]
  },
  {
   "cell_type": "code",
   "execution_count": 1,
   "metadata": {},
   "outputs": [],
   "source": [
    "# Import Libraries\n",
    "from sklearn.preprocessing import PolynomialFeatures\n",
    "from sklearn.linear_model import LinearRegression\n",
    "from sklearn.metrics import r2_score\n",
    "import pandas as pd\n",
    "import numpy as np\n",
    "import itertools\n",
    "from decimal import Decimal"
   ]
  },
  {
   "cell_type": "code",
   "execution_count": 2,
   "metadata": {},
   "outputs": [
    {
     "data": {
      "text/html": [
       "<div>\n",
       "<style scoped>\n",
       "    .dataframe tbody tr th:only-of-type {\n",
       "        vertical-align: middle;\n",
       "    }\n",
       "\n",
       "    .dataframe tbody tr th {\n",
       "        vertical-align: top;\n",
       "    }\n",
       "\n",
       "    .dataframe thead th {\n",
       "        text-align: right;\n",
       "    }\n",
       "</style>\n",
       "<table border=\"1\" class=\"dataframe\">\n",
       "  <thead>\n",
       "    <tr style=\"text-align: right;\">\n",
       "      <th></th>\n",
       "      <th>Y</th>\n",
       "      <th>X1</th>\n",
       "      <th>X2</th>\n",
       "      <th>X3</th>\n",
       "    </tr>\n",
       "  </thead>\n",
       "  <tbody>\n",
       "    <tr>\n",
       "      <th>0</th>\n",
       "      <td>222000.0</td>\n",
       "      <td>1</td>\n",
       "      <td>6.3</td>\n",
       "      <td>2016</td>\n",
       "    </tr>\n",
       "    <tr>\n",
       "      <th>1</th>\n",
       "      <td>177000.0</td>\n",
       "      <td>1</td>\n",
       "      <td>5.5</td>\n",
       "      <td>2016</td>\n",
       "    </tr>\n",
       "    <tr>\n",
       "      <th>2</th>\n",
       "      <td>177777.0</td>\n",
       "      <td>1</td>\n",
       "      <td>5.5</td>\n",
       "      <td>2016</td>\n",
       "    </tr>\n",
       "    <tr>\n",
       "      <th>3</th>\n",
       "      <td>199999.0</td>\n",
       "      <td>1</td>\n",
       "      <td>5.5</td>\n",
       "      <td>2016</td>\n",
       "    </tr>\n",
       "    <tr>\n",
       "      <th>4</th>\n",
       "      <td>199999.0</td>\n",
       "      <td>1</td>\n",
       "      <td>5.5</td>\n",
       "      <td>2016</td>\n",
       "    </tr>\n",
       "  </tbody>\n",
       "</table>\n",
       "</div>"
      ],
      "text/plain": [
       "          Y  X1   X2    X3\n",
       "0  222000.0   1  6.3  2016\n",
       "1  177000.0   1  5.5  2016\n",
       "2  177777.0   1  5.5  2016\n",
       "3  199999.0   1  5.5  2016\n",
       "4  199999.0   1  5.5  2016"
      ]
     },
     "execution_count": 2,
     "metadata": {},
     "output_type": "execute_result"
    }
   ],
   "source": [
    "# ดึงข้อมูลจากไฟล์ csv\n",
    "df = pd.read_csv(\"input.csv\")\n",
    "df.head()"
   ]
  },
  {
   "cell_type": "code",
   "execution_count": 3,
   "metadata": {},
   "outputs": [],
   "source": [
    "# แบ่ง dataframe เป็นตัวแปร X และ y\n",
    "df_X = df.drop(df.columns[[0]], axis=1) #X input\n",
    "y = df[df.columns[0]]"
   ]
  },
  {
   "cell_type": "code",
   "execution_count": 4,
   "metadata": {},
   "outputs": [],
   "source": [
    "# กำหนดค่าตัวแปร\n",
    "deg = 3 # specify maximum polynomial degree\n",
    "n = df_X.shape[1] # get number of feature"
   ]
  },
  {
   "cell_type": "markdown",
   "metadata": {
    "collapsed": true
   },
   "source": [
    "<b>Loop 1: เปลี่ยนจำนวน feature ที่ใช้</b>\n",
    "- จัดกลุ่ม feature ให้ครบทุกรูปแบบที่เป็นไปได้ ตามจำนวน feature ที่ใช้\n",
    "\n",
    "Note: จำนวนรูปแบบเป็นไปตามสูตร Combination (nCr)\n",
    "    \n",
    "ใช้ function ชื่อ itertools.combinations ในการจัดกลุ่ม feature<br>\n",
    "df_X.columns คือ list ของ feature ทั้งหมด"
   ]
  },
  {
   "cell_type": "code",
   "execution_count": 5,
   "metadata": {},
   "outputs": [
    {
     "name": "stdout",
     "output_type": "stream",
     "text": [
      "\n",
      " start running number of feature:1\n",
      "[('X1',), ('X2',), ('X3',)]\n",
      "\n",
      " start running number of feature:2\n",
      "[('X1', 'X2'), ('X1', 'X3'), ('X2', 'X3')]\n",
      "\n",
      " start running number of feature:3\n",
      "[('X1', 'X2', 'X3')]\n"
     ]
    }
   ],
   "source": [
    "for num_feature in range(1,n+1):\n",
    "    print(\"\\n start running number of feature:\"+str(num_feature))\n",
    "    feature_list = list(itertools.combinations(df_X.columns,num_feature)) # get all combination of features\n",
    "    print(feature_list)\n",
    "    feature = [None] * num_feature # create empty array \"feature\""
   ]
  },
  {
   "cell_type": "markdown",
   "metadata": {
    "collapsed": true
   },
   "source": [
    "<b>Loop 2: เปลี่ยนกลุ่ม feature ที่จะนำมาใช้สร้างสมการ regression</b>\n",
    "- เลือกกลุ่ม feature ที่ใช้ จากกลุ่มทั้งหมดที่ได้จาก Loop 1\n",
    "- สร้าง dataframe ใหม่จาก feature ที่ใช้"
   ]
  },
  {
   "cell_type": "code",
   "execution_count": 6,
   "metadata": {},
   "outputs": [
    {
     "name": "stdout",
     "output_type": "stream",
     "text": [
      "\n",
      " features:('X1', 'X2')\n",
      "\n",
      " features:('X1', 'X3')\n",
      "\n",
      " features:('X2', 'X3')\n"
     ]
    }
   ],
   "source": [
    "feature_list = [('X1', 'X2'), ('X1', 'X3'), ('X2', 'X3')] # กลุ่มของ feature ทั้งหมดที่เป็นไปได้ (กรณีเลือกใช้ 2 feature)\n",
    "\n",
    "for feature in feature_list:\n",
    "    print(\"\\n features:\"+str(feature))\n",
    "    X = df_X[list(feature)] # create new dataframe from selected feature(s)"
   ]
  },
  {
   "cell_type": "markdown",
   "metadata": {
    "collapsed": true
   },
   "source": [
    "<b> Loop 3: เปลี่ยน polynomial degree</b>\n",
    "- เพิ่ม degree จาก 1 ไปถึง 3\n",
    "- fit สมการ"
   ]
  },
  {
   "cell_type": "code",
   "execution_count": 7,
   "metadata": {},
   "outputs": [],
   "source": [
    "# สร้าง function สำหรับ print สมการ (อ่านข้ามส่วนนี้ไปได้)\n",
    "# Function: Generate polynomial equation\n",
    "def Poly_equation(feature, coef, intercept, power):\n",
    "    '''\n",
    "    Return fitted polynomial equation as a string\n",
    "    \n",
    "    feature: list of feature in dataset\n",
    "    power: degree of each feature in each term (can get from poly.powers_)\n",
    "    '''\n",
    "    poly_string = \"\"\n",
    "    \n",
    "    for i in range(len(coef)): # create polynomial term\n",
    "        \n",
    "        #Coefficients\n",
    "        if i == 0:\n",
    "            term_string = \"y = %.2E\" % Decimal(coef[i])\n",
    "        elif coef[i] >= 0: # add + sign in front of coef\n",
    "            term_string = \"+%.2E\" % Decimal(coef[i])\n",
    "        else:\n",
    "            term_string = \"%.2E\" % Decimal(coef[i])\n",
    "        \n",
    "        #Powers\n",
    "        feature_order = 0\n",
    "        for power_iter in power[i]: # power for each feature\n",
    "            if power_iter == 1 : #degree of that feature = 1\n",
    "                term_string += '*' + str(feature[feature_order])\n",
    "            elif power_iter > 1 : #degree of that feature > 1\n",
    "                term_string += '*' + str(feature[feature_order]) + '^' + str(power_iter)\n",
    "            feature_order += 1\n",
    "        poly_string += term_string\n",
    "    \n",
    "    #Add intercept\n",
    "    if intercept >= 0:\n",
    "        poly_string += \"+\"\n",
    "    poly_string += \"%.2E\" % Decimal(intercept)\n",
    "    \n",
    "    return poly_string"
   ]
  },
  {
   "cell_type": "code",
   "execution_count": 8,
   "metadata": {},
   "outputs": [
    {
     "name": "stdout",
     "output_type": "stream",
     "text": [
      "Polynomial degree: 1\n",
      "Degree for each feature:\n",
      "[[1 0]\n",
      " [0 1]]\n",
      "Equation: y = -1.15E+02*X1+1.15E+04*X2+1.00E+04\n",
      "R-Square = 0.411\n",
      "\n",
      "Polynomial degree: 2\n",
      "Degree for each feature:\n",
      "[[1 0]\n",
      " [0 1]\n",
      " [2 0]\n",
      " [1 1]\n",
      " [0 2]]\n",
      "Equation: y = -5.00E+01*X1+2.87E+04*X2+3.85E-01*X1^2-8.82E+01*X1*X2-8.58E+02*X2^2-1.62E+04\n",
      "R-Square = 0.586\n",
      "\n",
      "Polynomial degree: 3\n",
      "Degree for each feature:\n",
      "[[1 0]\n",
      " [0 1]\n",
      " [2 0]\n",
      " [1 1]\n",
      " [0 2]\n",
      " [3 0]\n",
      " [2 1]\n",
      " [1 2]\n",
      " [0 3]]\n",
      "Equation: y = 6.78E+01*X1+2.39E+04*X2+1.72E-01*X1^2-1.63E+02*X1*X2+2.06E+03*X2^2-6.79E-04*X1^3+3.06E-01*X1^2*X2-5.72E+00*X1*X2^2-2.14E+02*X2^3-1.61E+04\n",
      "R-Square = 0.639\n",
      "\n"
     ]
    }
   ],
   "source": [
    "feature = ['X1','X2']\n",
    "X = df_X[list(feature)]\n",
    "for nPoly in range(1, deg+1):\n",
    "    poly = PolynomialFeatures(degree=nPoly, include_bias=None)\n",
    "    # transform features to polynomial terms\n",
    "    X_ = poly.fit_transform(X)  \n",
    "        \n",
    "    # train linear regression model\n",
    "    lg = LinearRegression()\n",
    "    lg.fit(X_, y)\n",
    "     \n",
    "    # ใน Loop สุดท้าย สามารถ แสดงสมการ, กราฟ และค่า R-Square ได้\n",
    "    print(\"Polynomial degree: \"+str(nPoly))\n",
    "    print(\"Degree for each feature:\\n\" + str(poly.powers_))\n",
    "    print(\"Equation: \" + Poly_equation(feature, lg.coef_, lg.intercept_, poly.powers_))\n",
    "    print(\"R-Square = \"+ str(np.round(lg.score(X_,y),3))+\"\\n\")"
   ]
  },
  {
   "cell_type": "code",
   "execution_count": null,
   "metadata": {},
   "outputs": [],
   "source": []
  }
 ],
 "metadata": {
  "anaconda-cloud": {},
  "kernelspec": {
   "display_name": "Python 3",
   "language": "python",
   "name": "python3"
  },
  "language_info": {
   "codemirror_mode": {
    "name": "ipython",
    "version": 3
   },
   "file_extension": ".py",
   "mimetype": "text/x-python",
   "name": "python",
   "nbconvert_exporter": "python",
   "pygments_lexer": "ipython3",
   "version": "3.7.0"
  }
 },
 "nbformat": 4,
 "nbformat_minor": 2
}
