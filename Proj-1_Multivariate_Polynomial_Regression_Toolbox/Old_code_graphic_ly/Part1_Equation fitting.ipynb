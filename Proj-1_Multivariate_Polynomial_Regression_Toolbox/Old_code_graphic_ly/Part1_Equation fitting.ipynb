{
 "cells": [
  {
   "cell_type": "markdown",
   "metadata": {},
   "source": [
    "### Part 1: Equation fitting"
   ]
  },
  {
   "cell_type": "code",
   "execution_count": 1,
   "metadata": {},
   "outputs": [],
   "source": [
    "# Import Libraries\n",
    "from sklearn.preprocessing import PolynomialFeatures\n",
    "from sklearn.linear_model import LinearRegression\n",
    "from sklearn.metrics import r2_score\n",
    "import pandas as pd\n",
    "import numpy as np\n",
    "from decimal import Decimal"
   ]
  },
  {
   "cell_type": "code",
   "execution_count": 2,
   "metadata": {},
   "outputs": [
    {
     "data": {
      "text/html": [
       "<div>\n",
       "<style scoped>\n",
       "    .dataframe tbody tr th:only-of-type {\n",
       "        vertical-align: middle;\n",
       "    }\n",
       "\n",
       "    .dataframe tbody tr th {\n",
       "        vertical-align: top;\n",
       "    }\n",
       "\n",
       "    .dataframe thead th {\n",
       "        text-align: right;\n",
       "    }\n",
       "</style>\n",
       "<table border=\"1\" class=\"dataframe\">\n",
       "  <thead>\n",
       "    <tr style=\"text-align: right;\">\n",
       "      <th></th>\n",
       "      <th>Y</th>\n",
       "      <th>X1</th>\n",
       "      <th>X2</th>\n",
       "      <th>X3</th>\n",
       "    </tr>\n",
       "  </thead>\n",
       "  <tbody>\n",
       "    <tr>\n",
       "      <th>0</th>\n",
       "      <td>222000.0</td>\n",
       "      <td>1</td>\n",
       "      <td>6.3</td>\n",
       "      <td>2016</td>\n",
       "    </tr>\n",
       "    <tr>\n",
       "      <th>1</th>\n",
       "      <td>177000.0</td>\n",
       "      <td>1</td>\n",
       "      <td>5.5</td>\n",
       "      <td>2016</td>\n",
       "    </tr>\n",
       "    <tr>\n",
       "      <th>2</th>\n",
       "      <td>177777.0</td>\n",
       "      <td>1</td>\n",
       "      <td>5.5</td>\n",
       "      <td>2016</td>\n",
       "    </tr>\n",
       "    <tr>\n",
       "      <th>3</th>\n",
       "      <td>199999.0</td>\n",
       "      <td>1</td>\n",
       "      <td>5.5</td>\n",
       "      <td>2016</td>\n",
       "    </tr>\n",
       "    <tr>\n",
       "      <th>4</th>\n",
       "      <td>199999.0</td>\n",
       "      <td>1</td>\n",
       "      <td>5.5</td>\n",
       "      <td>2016</td>\n",
       "    </tr>\n",
       "  </tbody>\n",
       "</table>\n",
       "</div>"
      ],
      "text/plain": [
       "          Y  X1   X2    X3\n",
       "0  222000.0   1  6.3  2016\n",
       "1  177000.0   1  5.5  2016\n",
       "2  177777.0   1  5.5  2016\n",
       "3  199999.0   1  5.5  2016\n",
       "4  199999.0   1  5.5  2016"
      ]
     },
     "execution_count": 2,
     "metadata": {},
     "output_type": "execute_result"
    }
   ],
   "source": [
    "# ดึงข้อมูลจากไฟล์ csv\n",
    "df = pd.read_csv(\"Input.csv\")\n",
    "df.head()"
   ]
  },
  {
   "cell_type": "code",
   "execution_count": 3,
   "metadata": {},
   "outputs": [],
   "source": [
    "# สร้าง function สำหรับ print สมการ (อ่านข้ามส่วนนี้ไปได้)\n",
    "# Function: Generate polynomial equation\n",
    "def Poly_equation(feature, coef, intercept, power):\n",
    "    '''\n",
    "    Return fitted polynomial equation as a string\n",
    "    \n",
    "    feature: list of feature in dataset\n",
    "    power: degree of each feature in each term (can get from poly.powers_)\n",
    "    '''\n",
    "    poly_string = \"\"\n",
    "    \n",
    "    for i in range(len(coef)): # create polynomial term\n",
    "        \n",
    "        #Coefficients\n",
    "        if i == 0:\n",
    "            term_string = \"y = %.2E\" % Decimal(coef[i])\n",
    "        elif coef[i] >= 0: # add + sign in front of coef\n",
    "            term_string = \"+%.2E\" % Decimal(coef[i])\n",
    "        else:\n",
    "            term_string = \"%.2E\" % Decimal(coef[i])\n",
    "        \n",
    "        #Powers\n",
    "        feature_order = 0\n",
    "        for power_iter in power[i]: # power for each feature\n",
    "            if power_iter == 1 : #degree of that feature = 1\n",
    "                term_string += '*' + str(feature[feature_order])\n",
    "            elif power_iter > 1 : #degree of that feature > 1\n",
    "                term_string += '*' + str(feature[feature_order]) + '^' + str(power_iter)\n",
    "            feature_order += 1\n",
    "        poly_string += term_string\n",
    "    \n",
    "    #Add intercept\n",
    "    if intercept >= 0:\n",
    "        poly_string += \"+\"\n",
    "    poly_string += \"%.2E\" % Decimal(intercept)\n",
    "    \n",
    "    return poly_string\n",
    "\n",
    "# Function: Generate log equation\n",
    "def Log_equation(feature,a,b):\n",
    "    # Desired equation: y = bln(x)+a\n",
    "    log_string = \"y = %.2E*ln(%s)\" % (Decimal(b),feature)\n",
    "    if a >= 0:\n",
    "        log_string += \"+\"\n",
    "    log_string += \"%.2E\" % Decimal(a)\n",
    "    return log_string\n",
    "\n",
    "# Function: Generate exponential equation\n",
    "def Exp_equation(feature,d,e):\n",
    "    # Desired equation: y = exp(e)*exp(d*x)\n",
    "    exp_string = \"y = %.2E*exp(%.2E*%s)\" % (Decimal(np.exp(e)),Decimal(d),feature)\n",
    "    return exp_string\n",
    "\n",
    "# Function: Generate power equation\n",
    "def Power_equation(feature,f,g):\n",
    "    # Desired equation: y = exp(g)*x^f\n",
    "    pow_string = \"y = %.2E*%s^(%.2E)\" % (Decimal(np.exp(g)),feature,Decimal(f))\n",
    "    return pow_string"
   ]
  },
  {
   "cell_type": "code",
   "execution_count": 4,
   "metadata": {},
   "outputs": [],
   "source": [
    "# แบ่ง dataframe เป็นตัวแปร X และ y\n",
    "# ในตัวอย่างนี้จะใช้แค่ X1 ในการสร้างสมการ\n",
    "X = df.iloc[:,1:2] #X input\n",
    "y = df[df.columns[0]]\n"
   ]
  },
  {
   "cell_type": "markdown",
   "metadata": {},
   "source": [
    "<b> Linear fitting (1 feature) </b> <br>\n",
    "- create polynomial feature"
   ]
  },
  {
   "cell_type": "code",
   "execution_count": 5,
   "metadata": {},
   "outputs": [
    {
     "name": "stdout",
     "output_type": "stream",
     "text": [
      "Polynomial degree: 3\n",
      "Degree for each feature:\n",
      "[[1]\n",
      " [2]\n",
      " [3]]\n"
     ]
    }
   ],
   "source": [
    "nPoly = 3 #กำหนดให้เป็นสมการดีกรี 3\n",
    "poly = PolynomialFeatures(degree=nPoly, include_bias=None)\n",
    "# transform features to polynomial terms\n",
    "X_ = poly.fit_transform(X) \n",
    "print(\"Polynomial degree: \"+str(nPoly))\n",
    "print(\"Degree for each feature:\\n\" + str(poly.powers_))"
   ]
  },
  {
   "cell_type": "markdown",
   "metadata": {},
   "source": [
    "นั่นคือจะได้มา 3 พจน์ได้แก่ x, x^2 และ x^3"
   ]
  },
  {
   "cell_type": "markdown",
   "metadata": {},
   "source": [
    "- linear regression หาค่าคงที่ที่ทำให้สมการฟิตกับข้อมูล"
   ]
  },
  {
   "cell_type": "code",
   "execution_count": 6,
   "metadata": {},
   "outputs": [
    {
     "data": {
      "text/plain": [
       "LinearRegression(copy_X=True, fit_intercept=True, n_jobs=1, normalize=False)"
      ]
     },
     "execution_count": 6,
     "metadata": {},
     "output_type": "execute_result"
    }
   ],
   "source": [
    "# Linear fitting: y = ax^3 + bx^2 + cx + d\n",
    "lg = LinearRegression()\n",
    "lg.fit(X_, y)"
   ]
  },
  {
   "cell_type": "code",
   "execution_count": 7,
   "metadata": {},
   "outputs": [
    {
     "name": "stdout",
     "output_type": "stream",
     "text": [
      "Equation: y = -3.85E+02*X+9.05E-01*X^2-5.66E-04*X^3+5.46E+04\n",
      "R-Square = 0.326\n",
      "\n"
     ]
    }
   ],
   "source": [
    "# print สมการและค่า R-square\n",
    "print(\"Equation: \" + Poly_equation('X1', lg.coef_, lg.intercept_, poly.powers_))\n",
    "print(\"R-Square = \"+ str(np.round(lg.score(X_,y),3))+\"\\n\")"
   ]
  },
  {
   "cell_type": "markdown",
   "metadata": {},
   "source": [
    "<b> Exponential fitting </b> <br>\n",
    "สำหรับสมการในรูปแบบ Exponential, Natural log และ Power จะใช้ฟังก์ชัน polyfit ของ numpy ในการหาค่าคงที่ <br>\n",
    "เพิ่มเติม: ใส่ try and except ให้โค้ดสามารถรันต่อไปได้เมื่อมี error เกิดขึ้นเมื่อไม่สามารถ fit สมการ expo, log หรือ power ได้"
   ]
  },
  {
   "cell_type": "code",
   "execution_count": 8,
   "metadata": {},
   "outputs": [
    {
     "name": "stdout",
     "output_type": "stream",
     "text": [
      "y = 2.93E+04*exp(-5.33E-03*X1)\n"
     ]
    }
   ],
   "source": [
    "#Exponential fitting: y = a*exp(b*X)\n",
    "try:\n",
    "    d,e = np.polyfit(X.loc[:,'X1'], np.log(y), 1) # input for polyfit must be 1D numpy array\n",
    "    print(Exp_equation('X1',d,e))\n",
    "except:\n",
    "    print(\"Contain error in exponential fitting\")"
   ]
  },
  {
   "cell_type": "markdown",
   "metadata": {},
   "source": [
    "<b> Natural log fitting </b>"
   ]
  },
  {
   "cell_type": "code",
   "execution_count": 9,
   "metadata": {},
   "outputs": [
    {
     "name": "stdout",
     "output_type": "stream",
     "text": [
      "y = -1.18E+02*ln(X1)+3.90E+04\n"
     ]
    }
   ],
   "source": [
    "# Natural log fitting: y = a+bln(X)\n",
    "try:\n",
    "    b,a = np.polyfit(X.loc[:,'X1'], y, 1)\n",
    "    print(Log_equation('X1',a,b))\n",
    "except:\n",
    "    print(\"Contain error in log fitting\")"
   ]
  },
  {
   "cell_type": "markdown",
   "metadata": {},
   "source": [
    "<b> Power fitting </b>"
   ]
  },
  {
   "cell_type": "code",
   "execution_count": 10,
   "metadata": {},
   "outputs": [
    {
     "name": "stdout",
     "output_type": "stream",
     "text": [
      "y = 2.93E+04*X1^(-5.33E-03)\n"
     ]
    }
   ],
   "source": [
    "#Power fitting: y = aX^b\n",
    "try:\n",
    "    f,g = np.polyfit(X.loc[:,'X1'],np.log(y),1)\n",
    "    print(Power_equation('X1',f,g))\n",
    "except:\n",
    "    print(\"Contain error in power fitting\")"
   ]
  },
  {
   "cell_type": "markdown",
   "metadata": {},
   "source": [
    "<b> Linear fitting (more than 1 feature) </b>"
   ]
  },
  {
   "cell_type": "code",
   "execution_count": 11,
   "metadata": {},
   "outputs": [],
   "source": [
    "# ในตัวอย่างนี้จะใช้ X1 และ X2 ในการสร้างสมการ\n",
    "XX = df.iloc[:,1:3]"
   ]
  },
  {
   "cell_type": "code",
   "execution_count": 12,
   "metadata": {},
   "outputs": [
    {
     "name": "stdout",
     "output_type": "stream",
     "text": [
      "Polynomial degree: 3\n",
      "Degree for each feature(X1,X2):\n",
      "[[1 0]\n",
      " [0 1]\n",
      " [2 0]\n",
      " [1 1]\n",
      " [0 2]\n",
      " [3 0]\n",
      " [2 1]\n",
      " [1 2]\n",
      " [0 3]]\n"
     ]
    }
   ],
   "source": [
    "nPoly = 3\n",
    "poly = PolynomialFeatures(degree=nPoly, include_bias=None)\n",
    "# transform features to polynomial terms\n",
    "XX_ = poly.fit_transform(XX)\n",
    "print(\"Polynomial degree: \"+str(nPoly))\n",
    "print(\"Degree for each feature(X1,X2):\\n\" + str(poly.powers_))"
   ]
  },
  {
   "cell_type": "markdown",
   "metadata": {},
   "source": [
    "นั่นคือจะได้มา 9 พจน์ได้แก่ x1, x2, x1^2, x1\\*x2, x2^2, x1^3, x1^2\\*x2, x1\\*x2^2 และ x2^3"
   ]
  },
  {
   "cell_type": "code",
   "execution_count": 13,
   "metadata": {},
   "outputs": [
    {
     "data": {
      "text/plain": [
       "LinearRegression(copy_X=True, fit_intercept=True, n_jobs=1, normalize=False)"
      ]
     },
     "execution_count": 13,
     "metadata": {},
     "output_type": "execute_result"
    }
   ],
   "source": [
    "# Linear fitting\n",
    "lg = LinearRegression()\n",
    "lg.fit(XX_, y)"
   ]
  },
  {
   "cell_type": "code",
   "execution_count": 14,
   "metadata": {},
   "outputs": [
    {
     "name": "stdout",
     "output_type": "stream",
     "text": [
      "Equation: y = 6.78E+01*X1+2.39E+04*X2+1.72E-01*X1^2-1.63E+02*X1*X2+2.06E+03*X2^2-6.79E-04*X1^3+3.06E-01*X1^2*X2-5.72E+00*X1*X2^2-2.14E+02*X2^3-1.61E+04\n",
      "\n",
      " R-Square = 0.639\n",
      "\n"
     ]
    }
   ],
   "source": [
    "# print สมการและค่า R-square\n",
    "print(\"Equation: \" + Poly_equation(['X1','X2'], lg.coef_, lg.intercept_, poly.powers_))\n",
    "print(\"\\n R-Square = \"+ str(np.round(lg.score(XX_,y),3))+\"\\n\")"
   ]
  },
  {
   "cell_type": "code",
   "execution_count": null,
   "metadata": {},
   "outputs": [],
   "source": []
  }
 ],
 "metadata": {
  "anaconda-cloud": {},
  "kernelspec": {
   "display_name": "Python 3",
   "language": "python",
   "name": "python3"
  },
  "language_info": {
   "codemirror_mode": {
    "name": "ipython",
    "version": 3
   },
   "file_extension": ".py",
   "mimetype": "text/x-python",
   "name": "python",
   "nbconvert_exporter": "python",
   "pygments_lexer": "ipython3",
   "version": "3.7.0"
  }
 },
 "nbformat": 4,
 "nbformat_minor": 2
}
